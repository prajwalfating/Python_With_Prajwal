{
 "cells": [
  {
   "cell_type": "code",
   "execution_count": null,
   "metadata": {},
   "outputs": [],
   "source": [
    "                # DAY_04_24_03_2021\n",
    "\n",
    "\n",
    "\n",
    "# Introduction to f string \n",
    "\n",
    "# f\"custom words{placeholder}{placeholder1}--------------say{n}\n",
    "\n",
    "# Note :- place holder is nothing but the reference points of the variables that we have created. "
   ]
  },
  {
   "cell_type": "code",
   "execution_count": 5,
   "metadata": {},
   "outputs": [
    {
     "name": "stdout",
     "output_type": "stream",
     "text": [
      "prajwalfating\n"
     ]
    }
   ],
   "source": [
    "first = \"prajwal\"\n",
    "\n",
    "last = \"fating\"\n",
    "\n",
    "sentence = f\"{first}{last}\"\n",
    "\n",
    "print(sentence)"
   ]
  },
  {
   "cell_type": "code",
   "execution_count": 7,
   "metadata": {},
   "outputs": [
    {
     "name": "stdout",
     "output_type": "stream",
     "text": [
      "my name is prajwal fating\n"
     ]
    }
   ],
   "source": [
    "sentence = f\"my name is {first} {last}\"\n",
    "\n",
    "print(sentence)"
   ]
  },
  {
   "cell_type": "code",
   "execution_count": 13,
   "metadata": {},
   "outputs": [
    {
     "name": "stdout",
     "output_type": "stream",
     "text": [
      "pranjali fating\n"
     ]
    }
   ],
   "source": [
    "sister = \"pranjali\"\n",
    "\n",
    "sentence1 = f\"{sister} {last}\"\n",
    "\n",
    "print(sentence1)"
   ]
  },
  {
   "cell_type": "code",
   "execution_count": 14,
   "metadata": {},
   "outputs": [
    {
     "name": "stdout",
     "output_type": "stream",
     "text": [
      "sharda fating\n"
     ]
    }
   ],
   "source": [
    "mother = \"sharda\"\n",
    "\n",
    "sentence = f\"{mother} {last}\"\n",
    "\n",
    "print(sentence)"
   ]
  },
  {
   "cell_type": "code",
   "execution_count": 16,
   "metadata": {},
   "outputs": [
    {
     "name": "stdout",
     "output_type": "stream",
     "text": [
      "visheshwar fating\n"
     ]
    }
   ],
   "source": [
    "father = \"visheshwar\"\n",
    "\n",
    "sentence3 = f\"{father} {last}\"\n",
    "\n",
    "print(sentence3)"
   ]
  },
  {
   "cell_type": "code",
   "execution_count": 17,
   "metadata": {},
   "outputs": [
    {
     "name": "stdout",
     "output_type": "stream",
     "text": [
      "prajwal pranjali sharda visheshwar fating\n"
     ]
    }
   ],
   "source": [
    "sentence_all = f\"{first} {sister} {mother} {father} {last}\"\n",
    "\n",
    "print(sentence_all)"
   ]
  },
  {
   "cell_type": "code",
   "execution_count": 19,
   "metadata": {},
   "outputs": [
    {
     "name": "stdout",
     "output_type": "stream",
     "text": [
      "prajwalpranjalishardavisheshwarfating\n"
     ]
    }
   ],
   "source": [
    "sentence_all = f\"{first}{sister}{mother}{father}{last}\"\n",
    "\n",
    "print(sentence_all)"
   ]
  },
  {
   "cell_type": "code",
   "execution_count": 21,
   "metadata": {},
   "outputs": [
    {
     "name": "stdout",
     "output_type": "stream",
     "text": [
      "fating sharda\n"
     ]
    }
   ],
   "source": [
    "sentence_last = f\"{last} {mother}\"\n",
    "\n",
    "print(sentence_last)"
   ]
  },
  {
   "cell_type": "code",
   "execution_count": 24,
   "metadata": {},
   "outputs": [
    {
     "name": "stdout",
     "output_type": "stream",
     "text": [
      "Prajwal Fating\n"
     ]
    }
   ],
   "source": [
    "# Req : Now i want to write the name in capital letter \n",
    "\n",
    "first = \"prajwal\"\n",
    "\n",
    "last = \"fating\"\n",
    "\n",
    "sentence = f\"{first.title()} {last.title()}\"\n",
    "\n",
    "print(sentence)"
   ]
  },
  {
   "cell_type": "code",
   "execution_count": 29,
   "metadata": {},
   "outputs": [
    {
     "name": "stdout",
     "output_type": "stream",
     "text": [
      "Prajwal Pranjali Sharda Visheshwar Fating\n"
     ]
    }
   ],
   "source": [
    "# Adding space to string\n",
    "\n",
    "sentence_all = f\"{first.title()} {sister.title()} {mother.title()} {father.title()} {last.title()}\"\n",
    "\n",
    "print(sentence_all)"
   ]
  },
  {
   "cell_type": "code",
   "execution_count": 27,
   "metadata": {},
   "outputs": [
    {
     "name": "stdout",
     "output_type": "stream",
     "text": [
      "PrajwalPranjaliShardaVisheshwarFating\n"
     ]
    }
   ],
   "source": [
    "sentence_all = f\"{first.title()}{sister.title()}{mother.title()}{father.title()}{last.title()}\"\n",
    "\n",
    "print(sentence_all)"
   ]
  },
  {
   "cell_type": "code",
   "execution_count": 28,
   "metadata": {},
   "outputs": [
    {
     "name": "stdout",
     "output_type": "stream",
     "text": [
      "PRAJWAL PRANJALI SHARDA VISHESHWAR FATING\n"
     ]
    }
   ],
   "source": [
    "sentence_all = f\"{first.upper()} {sister.upper()} {mother.upper()} {father.upper()} {last.upper()}\"\n",
    "\n",
    "print(sentence_all)"
   ]
  },
  {
   "cell_type": "code",
   "execution_count": 31,
   "metadata": {},
   "outputs": [
    {
     "name": "stdout",
     "output_type": "stream",
     "text": [
      "Prajwal Pranjali SHARDA VISHESHWAR Fating\n"
     ]
    }
   ],
   "source": [
    "sentence_all = f\"{first.title()} {sister.title()} {mother.upper()} {father.upper()} {last.title()}\"\n",
    "\n",
    "print(sentence_all)"
   ]
  },
  {
   "cell_type": "code",
   "execution_count": null,
   "metadata": {},
   "outputs": [],
   "source": []
  }
 ],
 "metadata": {
  "kernelspec": {
   "display_name": "Python 3",
   "language": "python",
   "name": "python3"
  },
  "language_info": {
   "codemirror_mode": {
    "name": "ipython",
    "version": 3
   },
   "file_extension": ".py",
   "mimetype": "text/x-python",
   "name": "python",
   "nbconvert_exporter": "python",
   "pygments_lexer": "ipython3",
   "version": "3.8.5"
  }
 },
 "nbformat": 4,
 "nbformat_minor": 4
}
