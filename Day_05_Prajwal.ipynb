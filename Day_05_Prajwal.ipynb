{
 "cells": [
  {
   "cell_type": "code",
   "execution_count": null,
   "metadata": {},
   "outputs": [],
   "source": []
  },
  {
   "cell_type": "code",
   "execution_count": null,
   "metadata": {},
   "outputs": [],
   "source": [
    "                                    # DAY_05_25_03_2021\n",
    "\n",
    "\n",
    "\n",
    "\n",
    "# Adding Spaces to string\n",
    "      \n",
    "        # '\\n' is a new line delimiter : used to take in next line \n",
    "   \n",
    "        # '\\t' is a tab delimeter : used to give tab"
   ]
  },
  {
   "cell_type": "code",
   "execution_count": 1,
   "metadata": {},
   "outputs": [
    {
     "name": "stdout",
     "output_type": "stream",
     "text": [
      "fav_subject python C C++ java maths english HTML\n"
     ]
    }
   ],
   "source": [
    "# fav_subject python C C++ java maths english HTML\n",
    "\n",
    "print(\"fav_subject python C C++ java maths english HTML\")"
   ]
  },
  {
   "cell_type": "code",
   "execution_count": 2,
   "metadata": {},
   "outputs": [
    {
     "name": "stdout",
     "output_type": "stream",
     "text": [
      "fav_subjectpythonCC++javamathsenglishHTML\n"
     ]
    }
   ],
   "source": [
    "print(\"fav_subjectpythonCC++javamathsenglishHTML\")"
   ]
  },
  {
   "cell_type": "code",
   "execution_count": 4,
   "metadata": {},
   "outputs": [],
   "source": [
    "\n",
    "\n",
    "\n",
    "\n",
    "                     #  '\\n' is a new line delimeter\n",
    "\n",
    "\n",
    "\n",
    "\n"
   ]
  },
  {
   "cell_type": "code",
   "execution_count": 3,
   "metadata": {},
   "outputs": [
    {
     "name": "stdout",
     "output_type": "stream",
     "text": [
      "fav_subject\n",
      "python\n",
      "C\n",
      "C++java maths english HTML\n"
     ]
    }
   ],
   "source": [
    "print('fav_subject' '\\npython' '\\nC' '\\nC++' 'java maths english HTML')"
   ]
  },
  {
   "cell_type": "code",
   "execution_count": 5,
   "metadata": {},
   "outputs": [
    {
     "name": "stdout",
     "output_type": "stream",
     "text": [
      "fav_subject\n",
      "python\n",
      "C\n",
      "            C++\n",
      "java\n",
      "maths english HTML\n"
     ]
    }
   ],
   "source": [
    "print('fav_subject' '\\npython' '\\nC' '\\n            C++' '\\njava' '\\nmaths english HTML')"
   ]
  },
  {
   "cell_type": "code",
   "execution_count": 6,
   "metadata": {},
   "outputs": [
    {
     "name": "stdout",
     "output_type": "stream",
     "text": [
      "familypapamummysondaughter\n"
     ]
    }
   ],
   "source": [
    "print('familypapamummysondaughter')"
   ]
  },
  {
   "cell_type": "code",
   "execution_count": 7,
   "metadata": {},
   "outputs": [
    {
     "name": "stdout",
     "output_type": "stream",
     "text": [
      "family\n",
      "papa\n",
      "mummy\n",
      "\tson\n",
      "\tdaughter\n"
     ]
    }
   ],
   "source": [
    "print('family' '\\npapa' '\\nmummy' '\\n\\tson' '\\n\\tdaughter')"
   ]
  },
  {
   "cell_type": "code",
   "execution_count": null,
   "metadata": {},
   "outputs": [],
   "source": [
    "\n",
    "# '\\t' -- is tab delimeter\n"
   ]
  },
  {
   "cell_type": "code",
   "execution_count": 1,
   "metadata": {},
   "outputs": [
    {
     "name": "stdout",
     "output_type": "stream",
     "text": [
      "family\n",
      "\tpapa\n",
      "\tmummy\n",
      "\tson\n",
      "\tdaughter\n"
     ]
    }
   ],
   "source": [
    "print('family' '\\n\\tpapa' '\\n\\tmummy' '\\n\\tson' '\\n\\tdaughter')"
   ]
  },
  {
   "cell_type": "code",
   "execution_count": 5,
   "metadata": {},
   "outputs": [
    {
     "name": "stdout",
     "output_type": "stream",
     "text": [
      "family\n",
      "\t\tpapa\n",
      "\t\t\tmummy\n",
      "\t\t\t\tson\n",
      "\t\t\t\t\tdaughter\n"
     ]
    }
   ],
   "source": [
    "print('family' '\\n\\t\\tpapa' '\\n\\t\\t\\tmummy' '\\n\\t\\t\\t\\tson' '\\n\\t\\t\\t\\t\\tdaughter')"
   ]
  },
  {
   "cell_type": "code",
   "execution_count": 6,
   "metadata": {},
   "outputs": [
    {
     "name": "stdout",
     "output_type": "stream",
     "text": [
      "familygrandfathergrandmotherpapamummysondaughterchachachachibhaibehan\n"
     ]
    }
   ],
   "source": [
    "print('familygrandfathergrandmotherpapamummysondaughterchachachachibhaibehan')"
   ]
  },
  {
   "cell_type": "code",
   "execution_count": 7,
   "metadata": {},
   "outputs": [
    {
     "name": "stdout",
     "output_type": "stream",
     "text": [
      "family\n",
      "grandfathergrandmother\n",
      "papamummysondaughter\n",
      "chachachachibhaibehan\n"
     ]
    }
   ],
   "source": [
    "print('family' '\\ngrandfathergrandmother' '\\npapamummysondaughter' '\\nchachachachibhaibehan')"
   ]
  },
  {
   "cell_type": "code",
   "execution_count": 9,
   "metadata": {},
   "outputs": [
    {
     "name": "stdout",
     "output_type": "stream",
     "text": [
      "family\n",
      "\tgrandfather\n",
      "\tgrandmother\n",
      "\t\tpapa\n",
      "\t\tmummy\n",
      "\t\tson\n",
      "\t\tdaughter\n",
      "\t\t\tchacha\n",
      "\t\t\tchachi\n",
      "\t\t\tbhai\n",
      "\t\t\tbehan\n"
     ]
    }
   ],
   "source": [
    "print('family' '\\n\\tgrandfather\\n\\tgrandmother' '\\n\\t\\tpapa\\n\\t\\tmummy\\n\\t\\tson\\n\\t\\tdaughter' '\\n\\t\\t\\tchacha\\n\\t\\t\\tchachi\\n\\t\\t\\tbhai\\n\\t\\t\\tbehan')"
   ]
  },
  {
   "cell_type": "code",
   "execution_count": 14,
   "metadata": {},
   "outputs": [
    {
     "name": "stdout",
     "output_type": "stream",
     "text": [
      "                   a\n",
      "                        a\n",
      "            a                  a\n"
     ]
    }
   ],
   "source": [
    "print('                   a''\\n                        a' '\\n            a                  a')"
   ]
  },
  {
   "cell_type": "code",
   "execution_count": 15,
   "metadata": {},
   "outputs": [],
   "source": [
    "\n",
    "                    # Practices work\n",
    "    "
   ]
  },
  {
   "cell_type": "code",
   "execution_count": 21,
   "metadata": {},
   "outputs": [
    {
     "name": "stdout",
     "output_type": "stream",
     "text": [
      "p p p p p p p p p p p p p p p p p p p p p\n",
      "p\t\t\t\t\tp\n",
      "p\t\t\t\t\tp\n",
      "p\t\t\t\t\tp\n",
      "p\t\t\t\t\tp\n",
      "p\t\t\t\t\tp\n",
      "p p p p p p p p p p p p p p p p p p p p p \n"
     ]
    }
   ],
   "source": [
    "print('p p p p p p p p p p p p p p p p p p p p p' '\\np\\t\\t\\t\\t\\tp' '\\np\\t\\t\\t\\t\\tp' '\\np\\t\\t\\t\\t\\tp' '\\np\\t\\t\\t\\t\\tp' '\\np\\t\\t\\t\\t\\tp' '\\np p p p p p p p p p p p p p p p p p p p p ')"
   ]
  },
  {
   "cell_type": "code",
   "execution_count": 48,
   "metadata": {
    "scrolled": true
   },
   "outputs": [
    {
     "name": "stdout",
     "output_type": "stream",
     "text": [
      "p p p p p p p p p p\n",
      "p\t\t  p\n",
      "p\t\t  p\n",
      "p\t\t  p\n",
      "p\t\t  p\n",
      "p\t\t  p\n",
      "p\t\t  p\n",
      "p\t\t  p\n",
      "p p p p p p p p p p\n"
     ]
    }
   ],
   "source": [
    "print('p p p p p p p p p p' '\\np\\t\\t  p' '\\np\\t\\t  p' '\\np\\t\\t  p' '\\np\\t\\t  p' '\\np\\t\\t  p' '\\np\\t\\t  p' '\\np\\t\\t  p''\\np p p p p p p p p p')"
   ]
  },
  {
   "cell_type": "code",
   "execution_count": 86,
   "metadata": {},
   "outputs": [
    {
     "name": "stdout",
     "output_type": "stream",
     "text": [
      "\t\t\tp\n",
      "\t\t      p   p\n",
      "\t\t    p       p\n",
      "\t\t  p\t      p\n",
      "\t        p\t\tp\n",
      "\t      p\t\t\t  p\n",
      "\t    p\t\t\t    p\n",
      "\t  p\t\t\t      p\n",
      "\tp p p p p p p p p p p p p p p p p \n"
     ]
    }
   ],
   "source": [
    "print('\\t\\t\\tp' '\\n\\t\\t      p   p' '\\n\\t\\t    p       p' '\\n\\t\\t  p\\t      p' '\\n\\t        p\\t\\tp' '\\n\\t      p\\t\\t\\t  p' '\\n\\t    p\\t\\t\\t    p' '\\n\\t  p\\t\\t\\t      p' '\\n\\tp p p p p p p p p p p p p p p p p ')"
   ]
  },
  {
   "cell_type": "code",
   "execution_count": 198,
   "metadata": {},
   "outputs": [
    {
     "name": "stdout",
     "output_type": "stream",
     "text": [
      "\t\t\t\t\tp\n",
      "\t\t\t\tp\t\tp\n",
      "\t\t\t   p\t\t\t    p\n",
      "\t\t\tp\t\t\t\tp\n",
      "\t\t     p\t\t\t\t\t   p\n",
      "\t\t    p\t\t\t\t\t    p\n",
      "\t\t   p\t\t\t\t\t     p\n",
      "\t\t    p\t\t\t\t\t    p\n",
      "\t\t     p\t\t\t\t\t   p\n",
      "\t\t\tp\t\t\t\tp\n",
      "\t\t\t   p\t\t\t    p\n",
      "\t\t\t\tp\t\tp\n",
      "\t\t\t\t\tp\n"
     ]
    }
   ],
   "source": [
    "print('\\t\\t\\t\\t\\tp' '\\n\\t\\t\\t\\tp\\t\\tp' '\\n\\t\\t\\t   p\\t\\t\\t    p' '\\n\\t\\t\\tp\\t\\t\\t\\tp' '\\n\\t\\t     p\\t\\t\\t\\t\\t   p''\\n\\t\\t    p\\t\\t\\t\\t\\t    p' '\\n\\t\\t   p\\t\\t\\t\\t\\t     p' '\\n\\t\\t    p\\t\\t\\t\\t\\t    p' '\\n\\t\\t     p\\t\\t\\t\\t\\t   p' '\\n\\t\\t\\tp\\t\\t\\t\\tp' '\\n\\t\\t\\t   p\\t\\t\\t    p' '\\n\\t\\t\\t\\tp\\t\\tp' '\\n\\t\\t\\t\\t\\tp')"
   ]
  },
  {
   "cell_type": "code",
   "execution_count": 199,
   "metadata": {},
   "outputs": [
    {
     "name": "stdout",
     "output_type": "stream",
     "text": [
      "p p p p p p p p p p p p p p p p p p p p p\n",
      "p p p p p p p p p p p p p p p p p p p p p\n",
      "p p p p p p p p p p p p p p p p p p p p p\n",
      "p p p p p p p p p p p p p p p p p p p p p\n",
      "p p p p p p p p p p p p p p p p p p p p p\n",
      "p p p p p p p p p p p p p p p p p p p p p\n",
      "p p p p p p p p p p p p p p p p p p p p p \n"
     ]
    }
   ],
   "source": [
    "print('p p p p p p p p p p p p p p p p p p p p p' '\\np p p p p p p p p p p p p p p p p p p p p' '\\np p p p p p p p p p p p p p p p p p p p p' '\\np p p p p p p p p p p p p p p p p p p p p' '\\np p p p p p p p p p p p p p p p p p p p p' '\\np p p p p p p p p p p p p p p p p p p p p' '\\np p p p p p p p p p p p p p p p p p p p p ')"
   ]
  },
  {
   "cell_type": "code",
   "execution_count": 200,
   "metadata": {},
   "outputs": [
    {
     "name": "stdout",
     "output_type": "stream",
     "text": [
      "p p p p p p p p p p\n",
      "p p p p p p p p p p\n",
      "p p p p p p p p p p\n",
      "p p p p p p p p p p\n",
      "p p p p p p p p p p\n",
      "p p p p p p p p p p\n",
      "p p p p p p p p p p\n",
      "p p p p p p p p p p\n",
      "p p p p p p p p p p\n"
     ]
    }
   ],
   "source": [
    "print('p p p p p p p p p p' '\\np p p p p p p p p p' '\\np p p p p p p p p p' '\\np p p p p p p p p p' '\\np p p p p p p p p p' '\\np p p p p p p p p p' '\\np p p p p p p p p p' '\\np p p p p p p p p p''\\np p p p p p p p p p')"
   ]
  },
  {
   "cell_type": "code",
   "execution_count": 113,
   "metadata": {},
   "outputs": [
    {
     "name": "stdout",
     "output_type": "stream",
     "text": [
      "\t\t\t\tp\n",
      "\t\t\t      p p p\n",
      "\t\t\t    p p p p p\n",
      "\t\t\t  p p p p p p p\n",
      "\t\t\tp p p p p p p p p\n",
      "\t\t      p p p p p p p p p p p\n",
      "\t\t    p p p p p p p p p p p p p\n",
      "\t\t  p p p p p p p p p p p p p p p\n",
      "\t\tp p p p p p p p p p p p p p p p p\n"
     ]
    }
   ],
   "source": [
    "print('\\t\\t\\t\\tp' '\\n\\t\\t\\t      p p p' '\\n\\t\\t\\t    p p p p p' '\\n\\t\\t\\t  p p p p p p p' '\\n\\t\\t\\tp p p p p p p p p' '\\n\\t\\t      p p p p p p p p p p p' '\\n\\t\\t    p p p p p p p p p p p p p' '\\n\\t\\t  p p p p p p p p p p p p p p p' '\\n\\t\\tp p p p p p p p p p p p p p p p p')"
   ]
  },
  {
   "cell_type": "code",
   "execution_count": 261,
   "metadata": {},
   "outputs": [
    {
     "name": "stdout",
     "output_type": "stream",
     "text": [
      "\t\t\t\t\tp\n",
      "\t\t\t\tp p p p p p p p p\n",
      "\t\t\t   p p p p p p p p p p p p p p\n",
      "\t\t\tp p p p p p p p p p p p p p p p p\n",
      "\t\t     p p p p p p p p p p p p p p p p p p p p\n",
      "\t\t    p p p p p p p p p p p p p p p p p p p p p\n",
      "\t\t   p p p p p p p p p p p p p p p p p p p p p p\n",
      "\t\t    p p p p p p p p p p p p p p p p p p p p p\n",
      "\t\t     p p p p p p p p p p p p p p p p p p p p\n",
      "\t\t\tp p p p p p p p p p p p p p p p p\n",
      "\t\t\t   p p p p p p p p p p p p p p\n",
      "\t\t\t\tp p p p p p p p p\n",
      "\t\t\t\t\tp\n"
     ]
    }
   ],
   "source": [
    "print('\\t\\t\\t\\t\\tp' '\\n\\t\\t\\t\\tp p p p p p p p p' '\\n\\t\\t\\t   p p p p p p p p p p p p p p' '\\n\\t\\t\\tp p p p p p p p p p p p p p p p p' '\\n\\t\\t     p p p p p p p p p p p p p p p p p p p p''\\n\\t\\t    p p p p p p p p p p p p p p p p p p p p p' '\\n\\t\\t   p p p p p p p p p p p p p p p p p p p p p p' '\\n\\t\\t    p p p p p p p p p p p p p p p p p p p p p' '\\n\\t\\t     p p p p p p p p p p p p p p p p p p p p' '\\n\\t\\t\\tp p p p p p p p p p p p p p p p p' '\\n\\t\\t\\t   p p p p p p p p p p p p p p' '\\n\\t\\t\\t\\tp p p p p p p p p' '\\n\\t\\t\\t\\t\\tp')"
   ]
  },
  {
   "cell_type": "code",
   "execution_count": null,
   "metadata": {},
   "outputs": [],
   "source": []
  }
 ],
 "metadata": {
  "kernelspec": {
   "display_name": "Python 3",
   "language": "python",
   "name": "python3"
  },
  "language_info": {
   "codemirror_mode": {
    "name": "ipython",
    "version": 3
   },
   "file_extension": ".py",
   "mimetype": "text/x-python",
   "name": "python",
   "nbconvert_exporter": "python",
   "pygments_lexer": "ipython3",
   "version": "3.8.5"
  }
 },
 "nbformat": 4,
 "nbformat_minor": 4
}
