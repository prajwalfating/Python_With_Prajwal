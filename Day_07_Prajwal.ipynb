{
 "cells": [
  {
   "cell_type": "code",
   "execution_count": 2,
   "metadata": {},
   "outputs": [
    {
     "name": "stdout",
     "output_type": "stream",
     "text": [
      "family\n",
      "\tgramdfather\n",
      "\tgrandmother\n",
      "\t\tpapa\n",
      "\t\tmummy\n",
      "\t\t\tson\n",
      "\t\t\tdaughter\n",
      "\t\tchacha\n",
      "\t\tchachi\n",
      "\t\t\tbhai\n",
      "\t\t\tbehan\n"
     ]
    }
   ],
   "source": [
    "print('family''\\n\\tgramdfather''\\n\\tgrandmother''\\n\\t\\tpapa''\\n\\t\\tmummy''\\n\\t\\t\\tson''\\n\\t\\t\\tdaughter''\\n\\t\\tchacha''\\n\\t\\tchachi''\\n\\t\\t\\tbhai''\\n\\t\\t\\tbehan')"
   ]
  },
  {
   "cell_type": "code",
   "execution_count": 3,
   "metadata": {},
   "outputs": [
    {
     "name": "stdout",
     "output_type": "stream",
     "text": [
      "Prajwal Aniket Rohit\n"
     ]
    }
   ],
   "source": [
    "print(\"Prajwal Aniket Rohit\")"
   ]
  },
  {
   "cell_type": "code",
   "execution_count": 4,
   "metadata": {},
   "outputs": [
    {
     "name": "stdout",
     "output_type": "stream",
     "text": [
      "Prajwal\n",
      "AniketRohit\n"
     ]
    }
   ],
   "source": [
    "print(\"Prajwal\" \"\\nAniket\" \"Rohit\")"
   ]
  },
  {
   "cell_type": "code",
   "execution_count": 5,
   "metadata": {},
   "outputs": [
    {
     "name": "stdout",
     "output_type": "stream",
     "text": [
      "Prajwal\n",
      "\n",
      "\n",
      "AniketRohit\n"
     ]
    }
   ],
   "source": [
    "print(\"Prajwal\" \"\\n\\n\\nAniket\" \"Rohit\")"
   ]
  },
  {
   "cell_type": "code",
   "execution_count": 6,
   "metadata": {},
   "outputs": [
    {
     "name": "stdout",
     "output_type": "stream",
     "text": [
      "Prajwal\n",
      "\n",
      "\n",
      "Aniket\tRohit\n"
     ]
    }
   ],
   "source": [
    "print(\"Prajwal\" \"\\n\\n\\nAniket\" \"\\tRohit\")"
   ]
  },
  {
   "cell_type": "code",
   "execution_count": 7,
   "metadata": {},
   "outputs": [
    {
     "name": "stdout",
     "output_type": "stream",
     "text": [
      "\n",
      "\t\t\n",
      "\tPrajwal\n",
      "\n",
      "\n",
      "Aniket\n",
      "\tRohit\n"
     ]
    }
   ],
   "source": [
    "print(\"\\n\\t\\t\\n\\tPrajwal\" \"\\n\\n\\nAniket\" \"\\n\\tRohit\")"
   ]
  },
  {
   "cell_type": "code",
   "execution_count": 8,
   "metadata": {},
   "outputs": [
    {
     "name": "stdout",
     "output_type": "stream",
     "text": [
      "family\n",
      "\tgramdfather\n",
      "\tgrandmother\n",
      "\t\tpapa\n",
      "\t\tmummy\n",
      "\t\t\tson\n",
      "\t\t\tdaughter\n",
      "\t\tchacha\n",
      "\t\tchachi\n",
      "\t\t\tbhai\n",
      "\t\t\tbehan\n"
     ]
    }
   ],
   "source": [
    "print('family''\\n\\tgramdfather''\\n\\tgrandmother''\\n\\t\\tpapa''\\n\\t\\tmummy''\\n\\t\\t\\tson''\\n\\t\\t\\tdaughter''\\n\\t\\tchacha''\\n\\t\\tchachi''\\n\\t\\t\\tbhai''\\n\\t\\t\\tbehan')"
   ]
  },
  {
   "cell_type": "code",
   "execution_count": 9,
   "metadata": {},
   "outputs": [
    {
     "name": "stdout",
     "output_type": "stream",
     "text": [
      "family\n",
      "grandfather\n",
      "grandmother\n",
      "papa\n",
      "mummy\n",
      "son\n",
      "daughter\n",
      "chacha\n",
      "chachi\n",
      "bhai\n",
      "behen\n"
     ]
    }
   ],
   "source": [
    "print(\"family\")\n",
    "print(\"grandfather\")\n",
    "print(\"grandmother\")\n",
    "print(\"papa\")\n",
    "print(\"mummy\")\n",
    "print(\"son\")\n",
    "print(\"daughter\")\n",
    "print(\"chacha\")\n",
    "print(\"chachi\")\n",
    "print(\"bhai\")\n",
    "print(\"behen\")"
   ]
  },
  {
   "cell_type": "code",
   "execution_count": 10,
   "metadata": {},
   "outputs": [
    {
     "name": "stdout",
     "output_type": "stream",
     "text": [
      "family.title()\n",
      "\tgrandfather\n",
      "\tgrandmother\n",
      "\t\tpapa\n",
      "\t\tmummy\n",
      "\t\t\tson\n",
      "\t\t\tdaughter\n",
      "\t\tchachi\n",
      "\t\tchacha\n",
      "\t\t\tbhai\n",
      "\t\t\tbehen\n"
     ]
    }
   ],
   "source": [
    "print(\"family.title()\")\n",
    "print(\"\\tgrandfather\")\n",
    "print(\"\\tgrandmother\")\n",
    "print(\"\\t\\tpapa\")\n",
    "print(\"\\t\\tmummy\")\n",
    "print(\"\\t\\t\\tson\")\n",
    "print(\"\\t\\t\\tdaughter\")\n",
    "print(\"\\t\\tchachi\")\n",
    "print(\"\\t\\tchacha\")\n",
    "print(\"\\t\\t\\tbhai\")\n",
    "print(\"\\t\\t\\tbehen\")"
   ]
  },
  {
   "cell_type": "code",
   "execution_count": null,
   "metadata": {},
   "outputs": [],
   "source": [
    "# Note ====> In above program family is not in title they print the word title. Because the reason is the .title() written in the quotation."
   ]
  },
  {
   "cell_type": "code",
   "execution_count": 11,
   "metadata": {},
   "outputs": [],
   "source": [
    "# f string"
   ]
  },
  {
   "cell_type": "code",
   "execution_count": 12,
   "metadata": {},
   "outputs": [
    {
     "name": "stdout",
     "output_type": "stream",
     "text": [
      "prajwal fating\n"
     ]
    }
   ],
   "source": [
    "first = 'prajwal'\n",
    "last = 'fating'\n",
    "full_name = f'{first} {last}'\n",
    "\n",
    "print(full_name)"
   ]
  },
  {
   "cell_type": "code",
   "execution_count": 14,
   "metadata": {},
   "outputs": [
    {
     "name": "stdout",
     "output_type": "stream",
     "text": [
      "Prajwal Fating\n"
     ]
    }
   ],
   "source": [
    "first = 'prajwal'\n",
    "last = 'fating'\n",
    "full_name = f'{first.title()} {last.title()}'\n",
    "\n",
    "print(full_name)"
   ]
  },
  {
   "cell_type": "code",
   "execution_count": 15,
   "metadata": {},
   "outputs": [
    {
     "data": {
      "text/plain": [
       "str"
      ]
     },
     "execution_count": 15,
     "metadata": {},
     "output_type": "execute_result"
    }
   ],
   "source": [
    "type(first)"
   ]
  },
  {
   "cell_type": "code",
   "execution_count": 18,
   "metadata": {},
   "outputs": [
    {
     "name": "stdout",
     "output_type": "stream",
     "text": [
      "family\n",
      "\tgrandfather\n",
      "\tgrandmother\n",
      "\n",
      "\t\tpapa\n",
      "\t\tmummy\n",
      "\t\t\tson\n",
      "\t\t\tdaughter\n",
      "\t\tchachi\n",
      "\t\tchacha\n",
      "\t\t\tbhai\n",
      "\t\t\tbehen\n"
     ]
    }
   ],
   "source": [
    "print(\"family\")\n",
    "print(\"\\tgrandfather\")\n",
    "print(\"\\tgrandmother\")\n",
    "print(\"\\n\\t\\tpapa\")\n",
    "print(\"\\t\\tmummy\")\n",
    "print(\"\\t\\t\\tson\")\n",
    "print(\"\\t\\t\\tdaughter\")\n",
    "print(\"\\t\\tchachi\")\n",
    "print(\"\\t\\tchacha\")\n",
    "print(\"\\t\\t\\tbhai\")\n",
    "print(\"\\t\\t\\tbehen\")"
   ]
  },
  {
   "cell_type": "code",
   "execution_count": 19,
   "metadata": {},
   "outputs": [
    {
     "name": "stdout",
     "output_type": "stream",
     "text": [
      "Family\n",
      "\tGrandfather\n",
      "\tGrandmother\n",
      "\n",
      "\t\tPapa\n",
      "\t\tMummy\n",
      "\t\t\tSon\n",
      "\t\t\tDaughter\n",
      "\t\tChachi\n",
      "\t\tChacha\n",
      "\t\t\tBhai\n",
      "\t\t\tBehen\n"
     ]
    }
   ],
   "source": [
    "print(\"family\".title())\n",
    "print(\"\\tgrandfather\".title())\n",
    "print(\"\\tgrandmother\".title())\n",
    "print(\"\\n\\t\\tpapa\".title())\n",
    "print(\"\\t\\tmummy\".title())\n",
    "print(\"\\t\\t\\tson\".title())\n",
    "print(\"\\t\\t\\tdaughter\".title())\n",
    "print(\"\\t\\tchachi\".title())\n",
    "print(\"\\t\\tchacha\".title())\n",
    "print(\"\\t\\t\\tbhai\".title())\n",
    "print(\"\\t\\t\\tbehen\".title())"
   ]
  },
  {
   "cell_type": "code",
   "execution_count": 21,
   "metadata": {},
   "outputs": [
    {
     "name": "stdout",
     "output_type": "stream",
     "text": [
      "FAMILY\n",
      "\tGRANDFATHER\n",
      "\tGRANDMOTHER\n",
      "\n",
      "\t\tPAPA\n",
      "\t\tMUMMY\n",
      "\t\t\tSON\n",
      "\t\t\tDAUGHTER\n",
      "\t\tCHACHI\n",
      "\t\tCHACHA\n",
      "\t\t\tBHAI\n",
      "\t\t\tBEHEN\n"
     ]
    }
   ],
   "source": [
    "print(\"family\".upper())\n",
    "print(\"\\tgrandfather\".upper())\n",
    "print(\"\\tgrandmother\".upper())\n",
    "print(\"\\n\\t\\tpapa\".upper())\n",
    "print(\"\\t\\tmummy\".upper())\n",
    "print(\"\\t\\t\\tson\".upper())\n",
    "print(\"\\t\\t\\tdaughter\".upper())\n",
    "print(\"\\t\\tchachi\".upper())\n",
    "print(\"\\t\\tchacha\".upper())\n",
    "print(\"\\t\\t\\tbhai\".upper())\n",
    "print(\"\\t\\t\\tbehen\".upper())"
   ]
  },
  {
   "cell_type": "code",
   "execution_count": 22,
   "metadata": {},
   "outputs": [
    {
     "name": "stdout",
     "output_type": "stream",
     "text": [
      "family\n",
      "grandfather\n",
      "grandmother\n",
      "papa\n",
      "mummy\n",
      "son\n",
      "daughter\n",
      "chacha\n",
      "chachi\n",
      "bhai\n",
      "behen\n"
     ]
    }
   ],
   "source": [
    "print(\"family\")\n",
    "print(\"grandfather\")\n",
    "print(\"grandmother\")\n",
    "print(\"papa\")\n",
    "print(\"mummy\")\n",
    "print(\"son\")\n",
    "print(\"daughter\")\n",
    "print(\"chacha\")\n",
    "print(\"chachi\")\n",
    "print(\"bhai\")\n",
    "print(\"behen\")"
   ]
  },
  {
   "cell_type": "code",
   "execution_count": 23,
   "metadata": {},
   "outputs": [
    {
     "name": "stdout",
     "output_type": "stream",
     "text": [
      "Family\n",
      "Grandfather\n",
      "Grandmother\n",
      "Papa\n",
      "Mummy\n",
      "Son\n",
      "Daughter\n",
      "Chacha\n",
      "Chachi\n",
      "Bhai\n",
      "Behen\n"
     ]
    }
   ],
   "source": [
    "print(\"family\".title())\n",
    "print(\"grandfather\".title())\n",
    "print(\"grandmother\".title())\n",
    "print(\"papa\".title())\n",
    "print(\"mummy\".title())\n",
    "print(\"son\".title())\n",
    "print(\"daughter\".title())\n",
    "print(\"chacha\".title())\n",
    "print(\"chachi\".title())\n",
    "print(\"bhai\".title())\n",
    "print(\"behen\".title())"
   ]
  },
  {
   "cell_type": "code",
   "execution_count": 24,
   "metadata": {},
   "outputs": [
    {
     "name": "stdout",
     "output_type": "stream",
     "text": [
      "FAMILY\n",
      "GRANDFATHER\n",
      "GRANDMOTHER\n",
      "PAPA\n",
      "MUMMY\n",
      "SON\n",
      "DAUGHTER\n",
      "CHACHA\n",
      "CHACHI\n",
      "BHAI\n",
      "BEHEN\n"
     ]
    }
   ],
   "source": [
    "print(\"family\".upper())\n",
    "print(\"grandfather\".upper())\n",
    "print(\"grandmother\".upper())\n",
    "print(\"papa\".upper())\n",
    "print(\"mummy\".upper())\n",
    "print(\"son\".upper())\n",
    "print(\"daughter\".upper())\n",
    "print(\"chacha\".upper())\n",
    "print(\"chachi\".upper())\n",
    "print(\"bhai\".upper())\n",
    "print(\"behen\".upper())"
   ]
  },
  {
   "cell_type": "code",
   "execution_count": 25,
   "metadata": {},
   "outputs": [
    {
     "name": "stdout",
     "output_type": "stream",
     "text": [
      "family\n",
      "grandfather\n",
      "grandmother\n",
      "papa\n",
      "mummy\n",
      "son\n",
      "daughter\n",
      "chacha\n",
      "chachi\n",
      "bhai\n",
      "behen\n"
     ]
    }
   ],
   "source": [
    "name1 = \"family\"\n",
    "name2 = \"grandfather\"\n",
    "name3 = \"grandmother\"\n",
    "name4 = \"papa\"\n",
    "name5 = \"mummy\"\n",
    "name6 = \"son\"\n",
    "name7 = \"daughter\"\n",
    "name8 = \"chacha\"\n",
    "name9 = \"chachi\"\n",
    "name10 = \"bhai\"\n",
    "name11 = \"behen\"\n",
    "\n",
    "print(name1)\n",
    "print(name2)\n",
    "print(name3)\n",
    "print(name4)\n",
    "print(name5)\n",
    "print(name6)\n",
    "print(name7)\n",
    "print(name8)\n",
    "print(name9)\n",
    "print(name10)\n",
    "print(name11)"
   ]
  },
  {
   "cell_type": "code",
   "execution_count": 27,
   "metadata": {},
   "outputs": [
    {
     "name": "stdout",
     "output_type": "stream",
     "text": [
      "Family\n",
      "Grandfather\n",
      "Grandmother\n",
      "Papa\n",
      "Mummy\n",
      "son\n",
      "Daughter\n",
      "Chacha\n",
      "Chachi\n",
      "Bhai\n",
      "Behen\n"
     ]
    }
   ],
   "source": [
    "name1 = \"family\".title()\n",
    "name2 = \"grandfather\".title()\n",
    "name3 = \"grandmother\".title()\n",
    "name4 = \"papa\".title()\n",
    "name5 = \"mummy\".title()\n",
    "name6 = \"son\"\n",
    "name7 = \"daughter\".title()\n",
    "name8 = \"chacha\".title()\n",
    "name9 = \"chachi\".title()\n",
    "name10 = \"bhai\".title()\n",
    "name11 = \"behen\".title()\n",
    "\n",
    "print(name1)\n",
    "print(name2)\n",
    "print(name3)\n",
    "print(name4)\n",
    "print(name5)\n",
    "print(name6)\n",
    "print(name7)\n",
    "print(name8)\n",
    "print(name9)\n",
    "print(name10)\n",
    "print(name11)"
   ]
  },
  {
   "cell_type": "code",
   "execution_count": 28,
   "metadata": {},
   "outputs": [
    {
     "name": "stdout",
     "output_type": "stream",
     "text": [
      "FAMILY\n",
      "GRANDFATHER\n",
      "GRANDMOTHER\n",
      "PAPA\n",
      "MUMMY\n",
      "SON\n",
      "DAUGHTER\n",
      "CHACHA\n",
      "CHACHI\n",
      "BHAI\n",
      "BEHEN\n"
     ]
    }
   ],
   "source": [
    "name1 = \"family\".upper()\n",
    "name2 = \"grandfather\".upper().upper()\n",
    "name3 = \"grandmother\".upper()\n",
    "name4 = \"papa\".upper()\n",
    "name5 = \"mummy\".upper()\n",
    "name6 = \"son\".upper()\n",
    "name7 = \"daughter\".upper()\n",
    "name8 = \"chacha\".upper()\n",
    "name9 = \"chachi\".upper()\n",
    "name10 = \"bhai\".upper()\n",
    "name11 = \"behen\".upper()\n",
    "\n",
    "print(name1)\n",
    "print(name2)\n",
    "print(name3)\n",
    "print(name4)\n",
    "print(name5)\n",
    "print(name6)\n",
    "print(name7)\n",
    "print(name8)\n",
    "print(name9)\n",
    "print(name10)\n",
    "print(name11)"
   ]
  },
  {
   "cell_type": "code",
   "execution_count": 29,
   "metadata": {},
   "outputs": [
    {
     "name": "stdout",
     "output_type": "stream",
     "text": [
      "family\n",
      "\tgrandfather\n",
      "\tgrandmother\n",
      "\n",
      "\t\tpapa\n",
      "\t\tmummy\n",
      "\t\t\tson\n",
      "\t\t\tdaughter\n",
      "\t\tchacha\n",
      "\t\tchachi\n",
      "\t\t\tbhai\n",
      "\t\t\tbehen\n"
     ]
    }
   ],
   "source": [
    "name1 = \"family\"\n",
    "name2 = \"\\tgrandfather\"\n",
    "name3 = \"\\tgrandmother\"\n",
    "name4 = \"\\n\\t\\tpapa\"\n",
    "name5 = \"\\t\\tmummy\"\n",
    "name6 = \"\\t\\t\\tson\"\n",
    "name7 = \"\\t\\t\\tdaughter\"\n",
    "name8 = \"\\t\\tchacha\"\n",
    "name9 = \"\\t\\tchachi\"\n",
    "name10 = \"\\t\\t\\tbhai\"\n",
    "name11 = \"\\t\\t\\tbehen\"\n",
    "\n",
    "print(name1)\n",
    "print(name2)\n",
    "print(name3)\n",
    "print(name4)\n",
    "print(name5)\n",
    "print(name6)\n",
    "print(name7)\n",
    "print(name8)\n",
    "print(name9)\n",
    "print(name10)\n",
    "print(name11)"
   ]
  },
  {
   "cell_type": "code",
   "execution_count": 30,
   "metadata": {},
   "outputs": [
    {
     "name": "stdout",
     "output_type": "stream",
     "text": [
      "Family\n",
      "\tGrandfather\n",
      "\tGrandmother\n",
      "\n",
      "\t\tPapa\n",
      "\t\tMummy\n",
      "\t\t\tSon\n",
      "\t\t\tDaughter\n",
      "\t\tChacha\n",
      "\t\tChachi\n",
      "\t\t\tBhai\n",
      "\t\t\tBehen\n"
     ]
    }
   ],
   "source": [
    "name1 = \"family\".title()\n",
    "name2 = \"\\tgrandfather\".title()\n",
    "name3 = \"\\tgrandmother\".title()\n",
    "name4 = \"\\n\\t\\tpapa\".title()\n",
    "name5 = \"\\t\\tmummy\".title()\n",
    "name6 = \"\\t\\t\\tson\".title()\n",
    "name7 = \"\\t\\t\\tdaughter\".title()\n",
    "name8 = \"\\t\\tchacha\".title()\n",
    "name9 = \"\\t\\tchachi\".title()\n",
    "name10 = \"\\t\\t\\tbhai\".title()\n",
    "name11 = \"\\t\\t\\tbehen\".title()\n",
    "\n",
    "print(name1)\n",
    "print(name2)\n",
    "print(name3)\n",
    "print(name4)\n",
    "print(name5)\n",
    "print(name6)\n",
    "print(name7)\n",
    "print(name8)\n",
    "print(name9)\n",
    "print(name10)\n",
    "print(name11)"
   ]
  },
  {
   "cell_type": "code",
   "execution_count": 31,
   "metadata": {},
   "outputs": [
    {
     "name": "stdout",
     "output_type": "stream",
     "text": [
      "FAMILY\n",
      "\tGRANDFATHER\n",
      "\tGRANDMOTHER\n",
      "\n",
      "\t\tPAPA\n",
      "\t\tMUMMY\n",
      "\t\t\tSON\n",
      "\t\t\tDAUGHTER\n",
      "\t\tCHACHA\n",
      "\t\tCHACHI\n",
      "\t\t\tBHAI\n",
      "\t\t\tBEHEN\n"
     ]
    }
   ],
   "source": [
    "name1 = \"family\".upper()\n",
    "name2 = \"\\tgrandfather\".upper()\n",
    "name3 = \"\\tgrandmother\".upper()\n",
    "name4 = \"\\n\\t\\tpapa\".upper()\n",
    "name5 = \"\\t\\tmummy\".upper()\n",
    "name6 = \"\\t\\t\\tson\".upper()\n",
    "name7 = \"\\t\\t\\tdaughter\".upper()\n",
    "name8 = \"\\t\\tchacha\".upper()\n",
    "name9 = \"\\t\\tchachi\".upper()\n",
    "name10 = \"\\t\\t\\tbhai\".upper()\n",
    "name11 = \"\\t\\t\\tbehen\".upper()\n",
    "\n",
    "print(name1)\n",
    "print(name2)\n",
    "print(name3)\n",
    "print(name4)\n",
    "print(name5)\n",
    "print(name6)\n",
    "print(name7)\n",
    "print(name8)\n",
    "print(name9)\n",
    "print(name10)\n",
    "print(name11)"
   ]
  },
  {
   "cell_type": "code",
   "execution_count": 32,
   "metadata": {},
   "outputs": [
    {
     "name": "stdout",
     "output_type": "stream",
     "text": [
      "familygrandfathergrandmotherpapamummysondaughterchachachachibhaibehen\n"
     ]
    }
   ],
   "source": [
    "name1 = \"family\"\n",
    "name2 = \"grandfather\"\n",
    "name3 = \"grandmother\"\n",
    "name4 = \"papa\"\n",
    "name5 = \"mummy\"\n",
    "name6 = \"son\"\n",
    "name7 = \"daughter\"\n",
    "name8 = \"chacha\"\n",
    "name9 = \"chachi\"\n",
    "name10 = \"bhai\"\n",
    "name11 = \"behen\"\n",
    "\n",
    "all_members = f'{name1}{name2}{name3}{name4}{name5}{name6}{name7}{name8}{name9}{name10}{name11}'\n",
    "\n",
    "print(all_members)"
   ]
  },
  {
   "cell_type": "code",
   "execution_count": 33,
   "metadata": {},
   "outputs": [
    {
     "name": "stdout",
     "output_type": "stream",
     "text": [
      "family grandfather grandmother papa mummy son daughter chacha chachi bhai behen\n"
     ]
    }
   ],
   "source": [
    "name1 = \"family\"\n",
    "name2 = \"grandfather\"\n",
    "name3 = \"grandmother\"\n",
    "name4 = \"papa\"\n",
    "name5 = \"mummy\"\n",
    "name6 = \"son\"\n",
    "name7 = \"daughter\"\n",
    "name8 = \"chacha\"\n",
    "name9 = \"chachi\"\n",
    "name10 = \"bhai\"\n",
    "name11 = \"behen\"\n",
    "\n",
    "all_members = f'{name1} {name2} {name3} {name4} {name5} {name6} {name7} {name8} {name9} {name10} {name11}'\n",
    "\n",
    "print(all_members)"
   ]
  },
  {
   "cell_type": "code",
   "execution_count": 36,
   "metadata": {},
   "outputs": [
    {
     "name": "stdout",
     "output_type": "stream",
     "text": [
      "family \tgrandfather \tgrandmother \t\tpapa \t\tmummy \t\t\tson \t\t\tdaughter \t\tchacha \t\tchachi \t\t\tbhai \t\t\tbehen\n"
     ]
    }
   ],
   "source": [
    "name1 = \"family\"\n",
    "name2 = \"\\tgrandfather\"\n",
    "name3 = \"\\tgrandmother\"\n",
    "name4 = \"\\t\\tpapa\"\n",
    "name5 = \"\\t\\tmummy\"\n",
    "name6 = \"\\t\\t\\tson\"\n",
    "name7 = \"\\t\\t\\tdaughter\"\n",
    "name8 = \"\\t\\tchacha\"\n",
    "name9 = \"\\t\\tchachi\"\n",
    "name10 = \"\\t\\t\\tbhai\"\n",
    "name11 = \"\\t\\t\\tbehen\"\n",
    "\n",
    "all_members = f'{name1} {name2} {name3} {name4} {name5} {name6} {name7} {name8} {name9} {name10} {name11}'\n",
    "\n",
    "print(all_members)"
   ]
  },
  {
   "cell_type": "code",
   "execution_count": 37,
   "metadata": {},
   "outputs": [
    {
     "name": "stdout",
     "output_type": "stream",
     "text": [
      "family \n",
      "\tgrandfather \n",
      "\tgrandmother \n",
      "\n",
      "\t\tpapa \n",
      "\t\tmummy \n",
      "\t\t\tson \n",
      "\t\t\tdaughter \n",
      "\t\tchacha \n",
      "\t\tchachi \n",
      "\t\t\tbhai \n",
      "\t\t\tbehen\n"
     ]
    }
   ],
   "source": [
    "name1 = \"family\"\n",
    "name2 = \"\\n\\tgrandfather\"\n",
    "name3 = \"\\n\\tgrandmother\"\n",
    "name4 = \"\\n\\n\\t\\tpapa\"\n",
    "name5 = \"\\n\\t\\tmummy\"\n",
    "name6 = \"\\n\\t\\t\\tson\"\n",
    "name7 = \"\\n\\t\\t\\tdaughter\"\n",
    "name8 = \"\\n\\t\\tchacha\"\n",
    "name9 = \"\\n\\t\\tchachi\"\n",
    "name10 = \"\\n\\t\\t\\tbhai\"\n",
    "name11 = \"\\n\\t\\t\\tbehen\"\n",
    "\n",
    "all_members = f'{name1} {name2} {name3} {name4} {name5} {name6} {name7} {name8} {name9} {name10} {name11}'\n",
    "\n",
    "print(all_members)"
   ]
  },
  {
   "cell_type": "code",
   "execution_count": 38,
   "metadata": {},
   "outputs": [
    {
     "name": "stdout",
     "output_type": "stream",
     "text": [
      "Family \n",
      "\tGrandfather \n",
      "\tGrandmother \n",
      "\n",
      "\t\tPapa \n",
      "\t\tMummy \n",
      "\t\t\tSon \n",
      "\t\t\tDaughter \n",
      "\t\tChacha \n",
      "\t\tChachi \n",
      "\t\t\tBhai \n",
      "\t\t\tBehen\n"
     ]
    }
   ],
   "source": [
    "name1 = \"family\".title()\n",
    "name2 = \"\\n\\tgrandfather\".title()\n",
    "name3 = \"\\n\\tgrandmother\".title()\n",
    "name4 = \"\\n\\n\\t\\tpapa\".title()\n",
    "name5 = \"\\n\\t\\tmummy\".title()\n",
    "name6 = \"\\n\\t\\t\\tson\".title()\n",
    "name7 = \"\\n\\t\\t\\tdaughter\".title()\n",
    "name8 = \"\\n\\t\\tchacha\".title()\n",
    "name9 = \"\\n\\t\\tchachi\".title()\n",
    "name10 = \"\\n\\t\\t\\tbhai\".title()\n",
    "name11 = \"\\n\\t\\t\\tbehen\".title()\n",
    "\n",
    "all_members = f'{name1} {name2} {name3} {name4} {name5} {name6} {name7} {name8} {name9} {name10} {name11}'\n",
    "\n",
    "print(all_members)"
   ]
  },
  {
   "cell_type": "code",
   "execution_count": 39,
   "metadata": {},
   "outputs": [
    {
     "name": "stdout",
     "output_type": "stream",
     "text": [
      "FAMILY \n",
      "\tGRANDFATHER \n",
      "\tGRANDMOTHER \n",
      "\n",
      "\t\tPAPA \n",
      "\t\tMUMMY \n",
      "\t\t\tSON \n",
      "\t\t\tDAUGHTER \n",
      "\t\tCHACHA \n",
      "\t\tCHACHI \n",
      "\t\t\tBHAI \n",
      "\t\t\tBEHEN\n"
     ]
    }
   ],
   "source": [
    "name1 = \"family\".upper()\n",
    "name2 = \"\\n\\tgrandfather\".upper()\n",
    "name3 = \"\\n\\tgrandmother\".upper()\n",
    "name4 = \"\\n\\n\\t\\tpapa\".upper()\n",
    "name5 = \"\\n\\t\\tmummy\".upper()\n",
    "name6 = \"\\n\\t\\t\\tson\".upper()\n",
    "name7 = \"\\n\\t\\t\\tdaughter\".upper()\n",
    "name8 = \"\\n\\t\\tchacha\".upper()\n",
    "name9 = \"\\n\\t\\tchachi\".upper()\n",
    "name10 = \"\\n\\t\\t\\tbhai\".upper()\n",
    "name11 = \"\\n\\t\\t\\tbehen\".upper()\n",
    "\n",
    "all_members = f'{name1} {name2} {name3} {name4} {name5} {name6} {name7} {name8} {name9} {name10} {name11}'\n",
    "\n",
    "print(all_members)"
   ]
  },
  {
   "cell_type": "code",
   "execution_count": 40,
   "metadata": {},
   "outputs": [
    {
     "name": "stdout",
     "output_type": "stream",
     "text": [
      "Family \n",
      "\tGrandfather \n",
      "\tGrandmother \n",
      "\n",
      "\t\tPapa \n",
      "\t\tMummy \n",
      "\t\t\tSon \n",
      "\t\t\tDaughter \n",
      "\t\tChacha \n",
      "\t\tChachi \n",
      "\t\t\tBhai \n",
      "\t\t\tBehen\n"
     ]
    }
   ],
   "source": [
    "name1 = \"family\"\n",
    "name2 = \"\\n\\tgrandfather\"\n",
    "name3 = \"\\n\\tgrandmother\"\n",
    "name4 = \"\\n\\n\\t\\tpapa\"\n",
    "name5 = \"\\n\\t\\tmummy\"\n",
    "name6 = \"\\n\\t\\t\\tson\"\n",
    "name7 = \"\\n\\t\\t\\tdaughter\"\n",
    "name8 = \"\\n\\t\\tchacha\"\n",
    "name9 = \"\\n\\t\\tchachi\"\n",
    "name10 = \"\\n\\t\\t\\tbhai\"\n",
    "name11 = \"\\n\\t\\t\\tbehen\"\n",
    "\n",
    "all_members = f'{name1.title()} {name2.title()} {name3.title()} {name4.title()} {name5.title()} {name6.title()} {name7.title()} {name8.title()} {name9.title()} {name10.title()} {name11.title()}'\n",
    "\n",
    "print(all_members)"
   ]
  },
  {
   "cell_type": "code",
   "execution_count": 41,
   "metadata": {},
   "outputs": [
    {
     "name": "stdout",
     "output_type": "stream",
     "text": [
      "FAMILY \n",
      "\tGRANDFATHER \n",
      "\tGRANDMOTHER \n",
      "\n",
      "\t\tPAPA \n",
      "\t\tMUMMY \n",
      "\t\t\tSON \n",
      "\t\t\tDAUGHTER \n",
      "\t\tCHACHA \n",
      "\t\tCHACHI \n",
      "\t\t\tBHAI \n",
      "\t\t\tBEHEN\n"
     ]
    }
   ],
   "source": [
    "name1 = \"family\"\n",
    "name2 = \"\\n\\tgrandfather\"\n",
    "name3 = \"\\n\\tgrandmother\"\n",
    "name4 = \"\\n\\n\\t\\tpapa\"\n",
    "name5 = \"\\n\\t\\tmummy\"\n",
    "name6 = \"\\n\\t\\t\\tson\"\n",
    "name7 = \"\\n\\t\\t\\tdaughter\"\n",
    "name8 = \"\\n\\t\\tchacha\"\n",
    "name9 = \"\\n\\t\\tchachi\"\n",
    "name10 = \"\\n\\t\\t\\tbhai\"\n",
    "name11 = \"\\n\\t\\t\\tbehen\"\n",
    "\n",
    "all_members = f'{name1.upper()} {name2.upper()} {name3.upper()} {name4.upper()} {name5.upper()} {name6.upper()} {name7.upper()} {name8.upper()} {name9.upper()} {name10.upper()} {name11.upper()}'\n",
    "\n",
    "print(all_members)"
   ]
  },
  {
   "cell_type": "code",
   "execution_count": null,
   "metadata": {},
   "outputs": [],
   "source": []
  }
 ],
 "metadata": {
  "kernelspec": {
   "display_name": "Python 3",
   "language": "python",
   "name": "python3"
  },
  "language_info": {
   "codemirror_mode": {
    "name": "ipython",
    "version": 3
   },
   "file_extension": ".py",
   "mimetype": "text/x-python",
   "name": "python",
   "nbconvert_exporter": "python",
   "pygments_lexer": "ipython3",
   "version": "3.8.5"
  }
 },
 "nbformat": 4,
 "nbformat_minor": 4
}
