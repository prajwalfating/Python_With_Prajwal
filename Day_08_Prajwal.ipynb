{
 "cells": [
  {
   "cell_type": "code",
   "execution_count": null,
   "metadata": {},
   "outputs": [],
   "source": [
    "\n",
    "  # Used of .strip()\n",
    "    \n",
    "    \n",
    "  # Used of f string  \n",
    "    \n",
    "    \n",
    "  # req : To eliminate the white space"
   ]
  },
  {
   "cell_type": "code",
   "execution_count": 2,
   "metadata": {},
   "outputs": [
    {
     "name": "stdout",
     "output_type": "stream",
     "text": [
      "prajwal fating\n"
     ]
    }
   ],
   "source": [
    "first=('prajwal')\n",
    "last=('fating')\n",
    "full_name = f'{first.title()} {last.title()}'\n",
    "\n",
    "\n",
    "print(first, last)"
   ]
  },
  {
   "cell_type": "code",
   "execution_count": 4,
   "metadata": {},
   "outputs": [
    {
     "name": "stdout",
     "output_type": "stream",
     "text": [
      "Prajwal Fating\n"
     ]
    }
   ],
   "source": [
    "first=('prajwal')\n",
    "last=('fating')\n",
    "full_name = f'{first.title()} {last.title()}'\n",
    "\n",
    "\n",
    "print(full_name)"
   ]
  },
  {
   "cell_type": "code",
   "execution_count": 6,
   "metadata": {},
   "outputs": [
    {
     "name": "stdout",
     "output_type": "stream",
     "text": [
      "prajwal\n",
      "fating\n",
      "prajwal fating\n",
      "Prajwal Fating\n"
     ]
    }
   ],
   "source": [
    "first=('prajwal')\n",
    "last=('fating')\n",
    "full_name = f'{first.title()} {last.title()}'\n",
    "\n",
    "\n",
    "print(first)\n",
    "print(last)\n",
    "print(first, last)\n",
    "print(full_name)"
   ]
  },
  {
   "cell_type": "code",
   "execution_count": 10,
   "metadata": {},
   "outputs": [
    {
     "name": "stdout",
     "output_type": "stream",
     "text": [
      "prajwal\n",
      "fating\n",
      "praju\n",
      "prajwal fating\n",
      "Prajwal Fating\n",
      "My name is Prajwal Fating\n",
      "My nick name is PRAJU\n",
      "I am Student\n",
      "prajwal fating\n"
     ]
    }
   ],
   "source": [
    "first=('prajwal')\n",
    "last=('fating')\n",
    "nick_name=('praju')\n",
    "name=('PRAJWAL FATING')\n",
    "full_name = f'{first.title()} {last.title()}'\n",
    "\n",
    "full_name1 = f'My name is {first.title()} {last.title()}'\n",
    "\n",
    "full_name2 = f'My nick name is {nick_name.upper()}'\n",
    "\n",
    "full_name3 = f'{name.lower()}'\n",
    "\n",
    "\n",
    "print(first)\n",
    "print(last)\n",
    "print(nick_name)\n",
    "print(first, last)\n",
    "print(full_name)\n",
    "print(full_name1)\n",
    "print(full_name2)\n",
    "print(\"I am Student\")\n",
    "print(full_name3)"
   ]
  },
  {
   "cell_type": "code",
   "execution_count": 11,
   "metadata": {},
   "outputs": [
    {
     "name": "stdout",
     "output_type": "stream",
     "text": [
      "prajwal\n",
      "fating\n",
      "praju\n",
      "prajwal fating\n",
      "Prajwal Fating\n",
      "My name is Prajwal Fating\n",
      "My nick name is PRAJU\n",
      "I am Student\n",
      "     my name in small letters is prajwal fating\n"
     ]
    }
   ],
   "source": [
    "first=('prajwal')\n",
    "last=('fating')\n",
    "nick_name=('praju')\n",
    "name=('PRAJWAL FATING')\n",
    "full_name = f'{first.title()} {last.title()}'\n",
    "\n",
    "full_name1 = f'My name is {first.title()} {last.title()}'\n",
    "\n",
    "full_name2 = f'My nick name is {nick_name.upper()}'\n",
    "\n",
    "full_name3 = f'     my name in small letters is {name.lower()}'\n",
    "\n",
    "\n",
    "print(first)\n",
    "print(last)\n",
    "print(nick_name)\n",
    "print(first, last)\n",
    "print(full_name)\n",
    "print(full_name1)\n",
    "print(full_name2)\n",
    "print(\"I am Student\")\n",
    "print(full_name3)"
   ]
  },
  {
   "cell_type": "code",
   "execution_count": 12,
   "metadata": {},
   "outputs": [
    {
     "name": "stdout",
     "output_type": "stream",
     "text": [
      "     Prajwl\n",
      "     fating\n",
      "               Prajwal Fating\n",
      "Prajwal Fating\n"
     ]
    }
   ],
   "source": [
    "name1 = \"     Prajwl\"\n",
    "name2 = \"     fating\"\n",
    "name3 = \"               Prajwal Fating\"\n",
    "name4 = \"Prajwal Fating\"\n",
    "\n",
    "print(name1)\n",
    "print(name2)\n",
    "print(name3)\n",
    "print(name4)"
   ]
  },
  {
   "cell_type": "code",
   "execution_count": null,
   "metadata": {},
   "outputs": [],
   "source": [
    "\n",
    "\n",
    "# req : To eliminate the white space \n"
   ]
  },
  {
   "cell_type": "code",
   "execution_count": 15,
   "metadata": {},
   "outputs": [
    {
     "name": "stdout",
     "output_type": "stream",
     "text": [
      "Prajwl\n",
      "fating\n",
      "               Prajwal Fating\n",
      "Prajwal Fating\n"
     ]
    }
   ],
   "source": [
    "name1 = \"     Prajwl\"\n",
    "name2 = \"     fating\"\n",
    "name3 = \"               Prajwal Fating\"\n",
    "name4 = \"Prajwal Fating\"\n",
    "\n",
    "print(name1.lstrip())\n",
    "print(name2.lstrip())\n",
    "print(name3)\n",
    "print(name4)"
   ]
  },
  {
   "cell_type": "code",
   "execution_count": 16,
   "metadata": {},
   "outputs": [
    {
     "name": "stdout",
     "output_type": "stream",
     "text": [
      "Prajwl\n",
      "     fating\n",
      "               Prajwal Fating\n",
      "Prajwal Fating\n"
     ]
    }
   ],
   "source": [
    "name1 = \"     Prajwl\"\n",
    "name2 = \"     fating            \"\n",
    "name3 = \"               Prajwal Fating\"\n",
    "name4 = \"Prajwal Fating\"\n",
    "\n",
    "print(name1.lstrip())\n",
    "print(name2.rstrip())\n",
    "print(name3)\n",
    "print(name4)"
   ]
  },
  {
   "cell_type": "code",
   "execution_count": 17,
   "metadata": {},
   "outputs": [
    {
     "name": "stdout",
     "output_type": "stream",
     "text": [
      "Prajwl\n",
      "fating\n",
      "               Prajwal Fating\n",
      "Prajwal Fating\n"
     ]
    }
   ],
   "source": [
    "name1 = \"     Prajwl\"\n",
    "name2 = \"     fating            \"\n",
    "name3 = \"               Prajwal Fating\"\n",
    "name4 = \"Prajwal Fating\"\n",
    "\n",
    "print(name1.lstrip())\n",
    "print(name2.rstrip().lstrip())\n",
    "print(name3)\n",
    "print(name4)"
   ]
  },
  {
   "cell_type": "code",
   "execution_count": 18,
   "metadata": {},
   "outputs": [
    {
     "name": "stdout",
     "output_type": "stream",
     "text": [
      "Prajwl\n",
      "fating\n",
      "               Prajwal Fating\n",
      "Prajwal Fating\n"
     ]
    }
   ],
   "source": [
    "name1 = \"     Prajwl\"\n",
    "name2 = \"     fating            \"\n",
    "name3 = \"               Prajwal Fating\"\n",
    "name4 = \"Prajwal Fating\"\n",
    "\n",
    "print(name1.lstrip())\n",
    "print(name2.strip())\n",
    "print(name3)\n",
    "print(name4)"
   ]
  },
  {
   "cell_type": "code",
   "execution_count": null,
   "metadata": {},
   "outputs": [],
   "source": [
    "\n",
    "\n",
    "# lstrip ===> eliminated or removes the white space on left of the text\n",
    "\n",
    "# rstrip ====> eliminated or removes the white space on left of the text\n",
    "\n",
    "# strip ====> it remove all the spaces"
   ]
  },
  {
   "cell_type": "code",
   "execution_count": 19,
   "metadata": {},
   "outputs": [
    {
     "name": "stdout",
     "output_type": "stream",
     "text": [
      "prajwal\n",
      "fating\n",
      "praju\n",
      "prajwal fating\n",
      "Prajwal Fating\n",
      "My name is Prajwal Fating\n",
      "My nick name is PRAJU\n",
      "I am Student\n",
      "my name in small letters is prajwal fating\n"
     ]
    }
   ],
   "source": [
    "first=('prajwal')\n",
    "last=('fating')\n",
    "nick_name=('praju')\n",
    "name=('PRAJWAL FATING')\n",
    "full_name = f'{first.title()} {last.title()}'\n",
    "\n",
    "full_name1 = f'My name is {first.title()} {last.title()}'\n",
    "\n",
    "full_name2 = f'My nick name is {nick_name.upper()}'\n",
    "\n",
    "full_name3 = f'     my name in small letters is {name.lower()}'\n",
    "\n",
    "\n",
    "print(first)\n",
    "print(last)\n",
    "print(nick_name)\n",
    "print(first, last)\n",
    "print(full_name)\n",
    "print(full_name1)\n",
    "print(full_name2)\n",
    "print(\"I am Student\")\n",
    "print(full_name3.strip())"
   ]
  },
  {
   "cell_type": "code",
   "execution_count": 22,
   "metadata": {},
   "outputs": [
    {
     "name": "stdout",
     "output_type": "stream",
     "text": [
      "     Prajwal.lstrip()\n"
     ]
    }
   ],
   "source": [
    "name1 = \"     Prajwal.lstrip()\"\n",
    "print(name1)"
   ]
  },
  {
   "cell_type": "code",
   "execution_count": 23,
   "metadata": {},
   "outputs": [
    {
     "name": "stdout",
     "output_type": "stream",
     "text": [
      "              Prajwal\n",
      "Prajwal\n"
     ]
    }
   ],
   "source": [
    "name2 = \"              Prajwal\"\n",
    "print(name2)\n",
    "print(name2.strip())"
   ]
  },
  {
   "cell_type": "code",
   "execution_count": 24,
   "metadata": {},
   "outputs": [
    {
     "name": "stdout",
     "output_type": "stream",
     "text": [
      "Prajwal\n"
     ]
    }
   ],
   "source": [
    "print(\"                  \\n\\n\\t\\t\\t\\n\\tPrajwal\".strip())"
   ]
  },
  {
   "cell_type": "code",
   "execution_count": 25,
   "metadata": {},
   "outputs": [
    {
     "name": "stdout",
     "output_type": "stream",
     "text": [
      "FAMILY\n",
      "GRANDFATHER\n",
      "GRANDMOTHER\n",
      "PAPA\n",
      "MUMMY\n",
      "SON\n",
      "DAUGHTER\n",
      "CHACHI\n",
      "CHACHA\n",
      "BHAI\n",
      "BEHEN\n"
     ]
    }
   ],
   "source": [
    "print(\"family\".upper().strip())\n",
    "print(\"\\tgrandfather\".upper().strip())\n",
    "print(\"\\tgrandmother\".upper().strip())\n",
    "print(\"\\n\\t\\tpapa\".upper().strip())\n",
    "print(\"\\t\\tmummy\".upper().strip())\n",
    "print(\"\\t\\t\\tson\".upper().strip())\n",
    "print(\"\\t\\t\\tdaughter\".upper().strip())\n",
    "print(\"\\t\\tchachi\".upper().strip())\n",
    "print(\"\\t\\tchacha\".upper().strip())\n",
    "print(\"\\t\\t\\tbhai\".upper().strip())\n",
    "print(\"\\t\\t\\tbehen\".upper().strip())"
   ]
  },
  {
   "cell_type": "code",
   "execution_count": 26,
   "metadata": {},
   "outputs": [
    {
     "name": "stdout",
     "output_type": "stream",
     "text": [
      "pra                                                              jawl\n"
     ]
    }
   ],
   "source": [
    "print(\"pra                                                              jawl\")"
   ]
  },
  {
   "cell_type": "code",
   "execution_count": 27,
   "metadata": {},
   "outputs": [
    {
     "name": "stdout",
     "output_type": "stream",
     "text": [
      "prajwal\n"
     ]
    }
   ],
   "source": [
    "print(\"pra\"          \"jwal\")"
   ]
  },
  {
   "cell_type": "code",
   "execution_count": 28,
   "metadata": {},
   "outputs": [
    {
     "name": "stdout",
     "output_type": "stream",
     "text": [
      "pra jwal\n"
     ]
    }
   ],
   "source": [
    "print(\"pra\"                ,                    \"jwal\") "
   ]
  },
  {
   "cell_type": "code",
   "execution_count": 31,
   "metadata": {},
   "outputs": [
    {
     "name": "stdout",
     "output_type": "stream",
     "text": [
      "pra                                                              jawl\n"
     ]
    }
   ],
   "source": [
    "print(\"pra                                                              jawl\".strip())"
   ]
  },
  {
   "cell_type": "code",
   "execution_count": 32,
   "metadata": {},
   "outputs": [
    {
     "name": "stdout",
     "output_type": "stream",
     "text": [
      "pra                                                              jawl\n"
     ]
    }
   ],
   "source": [
    "print(\"                  pra                                                              jawl                     \".strip())"
   ]
  },
  {
   "cell_type": "code",
   "execution_count": null,
   "metadata": {},
   "outputs": [],
   "source": [
    "\n",
    "\n",
    "\n",
    "# Note : strip only use for right, left & both white space remove. They not remove between the words space. \n",
    "\n",
    "\n",
    "\n"
   ]
  }
 ],
 "metadata": {
  "kernelspec": {
   "display_name": "Python 3",
   "language": "python",
   "name": "python3"
  },
  "language_info": {
   "codemirror_mode": {
    "name": "ipython",
    "version": 3
   },
   "file_extension": ".py",
   "mimetype": "text/x-python",
   "name": "python",
   "nbconvert_exporter": "python",
   "pygments_lexer": "ipython3",
   "version": "3.8.5"
  }
 },
 "nbformat": 4,
 "nbformat_minor": 4
}
