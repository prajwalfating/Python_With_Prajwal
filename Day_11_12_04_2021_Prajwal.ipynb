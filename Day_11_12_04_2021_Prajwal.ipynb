{
 "cells": [
  {
   "cell_type": "code",
   "execution_count": null,
   "metadata": {},
   "outputs": [],
   "source": [
    "# How to delete/removing element in a list\n",
    "\n",
    "        # Using {del }\n",
    "\n",
    "# Practice on list\n",
    "\n",
    "    # use of .append() & .insert()"
   ]
  },
  {
   "cell_type": "code",
   "execution_count": 13,
   "metadata": {},
   "outputs": [
    {
     "data": {
      "text/plain": [
       "11"
      ]
     },
     "execution_count": 13,
     "metadata": {},
     "output_type": "execute_result"
    }
   ],
   "source": [
    "5+6"
   ]
  },
  {
   "cell_type": "code",
   "execution_count": 14,
   "metadata": {},
   "outputs": [
    {
     "ename": "TypeError",
     "evalue": "insert expected 2 arguments, got 1",
     "output_type": "error",
     "traceback": [
      "\u001b[1;31m---------------------------------------------------------------------------\u001b[0m",
      "\u001b[1;31mTypeError\u001b[0m                                 Traceback (most recent call last)",
      "\u001b[1;32m<ipython-input-14-564015bab4fd>\u001b[0m in \u001b[0;36m<module>\u001b[1;34m\u001b[0m\n\u001b[0;32m      1\u001b[0m \u001b[0mname\u001b[0m \u001b[1;33m=\u001b[0m \u001b[1;33m[\u001b[0m\u001b[1;34m'prajwal'\u001b[0m\u001b[1;33m,\u001b[0m \u001b[1;34m'aniket'\u001b[0m\u001b[1;33m,\u001b[0m \u001b[1;34m'varun'\u001b[0m\u001b[1;33m]\u001b[0m\u001b[1;33m\u001b[0m\u001b[1;33m\u001b[0m\u001b[0m\n\u001b[1;32m----> 2\u001b[1;33m \u001b[0mname\u001b[0m\u001b[1;33m.\u001b[0m\u001b[0minsert\u001b[0m\u001b[1;33m(\u001b[0m\u001b[1;34m'sana'\u001b[0m\u001b[1;33m)\u001b[0m\u001b[1;33m\u001b[0m\u001b[1;33m\u001b[0m\u001b[0m\n\u001b[0m\u001b[0;32m      3\u001b[0m \u001b[0mprint\u001b[0m\u001b[1;33m(\u001b[0m\u001b[0mname\u001b[0m\u001b[1;33m)\u001b[0m\u001b[1;33m\u001b[0m\u001b[1;33m\u001b[0m\u001b[0m\n",
      "\u001b[1;31mTypeError\u001b[0m: insert expected 2 arguments, got 1"
     ]
    }
   ],
   "source": [
    "name = ['prajwal', 'aniket', 'varun']\n",
    "name.insert('sana')\n",
    "print(name)"
   ]
  },
  {
   "cell_type": "code",
   "execution_count": 16,
   "metadata": {},
   "outputs": [
    {
     "ename": "SyntaxError",
     "evalue": "invalid syntax (<ipython-input-16-4b5853db6baa>, line 2)",
     "output_type": "error",
     "traceback": [
      "\u001b[1;36m  File \u001b[1;32m\"<ipython-input-16-4b5853db6baa>\"\u001b[1;36m, line \u001b[1;32m2\u001b[0m\n\u001b[1;33m    name.insert( ,'sana')\u001b[0m\n\u001b[1;37m                 ^\u001b[0m\n\u001b[1;31mSyntaxError\u001b[0m\u001b[1;31m:\u001b[0m invalid syntax\n"
     ]
    }
   ],
   "source": [
    "name = ['prajwal', 'aniket', 'varun']\n",
    "name.insert( ,'sana')\n",
    "print(name)"
   ]
  },
  {
   "cell_type": "code",
   "execution_count": 17,
   "metadata": {},
   "outputs": [
    {
     "name": "stdout",
     "output_type": "stream",
     "text": [
      "['prajwal', 'sana', 'aniket', 'varun']\n"
     ]
    }
   ],
   "source": [
    "name = ['prajwal', 'aniket', 'varun']\n",
    "name.insert(1,'sana')\n",
    "print(name)\n",
    "\n",
    "\n",
    "\n",
    "                        # means define the number of position is necessary"
   ]
  },
  {
   "cell_type": "code",
   "execution_count": 18,
   "metadata": {},
   "outputs": [
    {
     "name": "stdout",
     "output_type": "stream",
     "text": [
      "['prajwal', 'aniket', 'varun', 'anita']\n"
     ]
    }
   ],
   "source": [
    "name = ['prajwal', 'aniket', 'varun']\n",
    "name.insert(3,'anita')\n",
    "print(name)"
   ]
  },
  {
   "cell_type": "code",
   "execution_count": 19,
   "metadata": {},
   "outputs": [
    {
     "name": "stdout",
     "output_type": "stream",
     "text": [
      "['prajwal', 'ritu', 'aniket', 'varun']\n"
     ]
    }
   ],
   "source": [
    "name = ['prajwal', 'aniket', 'varun']\n",
    "name.insert(1,'ritu')\n",
    "print(name)"
   ]
  },
  {
   "cell_type": "code",
   "execution_count": null,
   "metadata": {},
   "outputs": [],
   "source": [
    "name = ['prajwal', 'aniket', 'varun']\n",
    "name.insert(1,'sana')\n",
    "print(name)"
   ]
  },
  {
   "cell_type": "code",
   "execution_count": 20,
   "metadata": {},
   "outputs": [
    {
     "name": "stdout",
     "output_type": "stream",
     "text": [
      "['prajwal', 'ritu', 'aniket', 'varun']\n"
     ]
    }
   ],
   "source": [
    "name = ['prajwal', 'aniket', 'varun']\n",
    "name.insert(1,'ritu')\n",
    "print(name)"
   ]
  },
  {
   "cell_type": "code",
   "execution_count": 30,
   "metadata": {},
   "outputs": [
    {
     "name": "stdout",
     "output_type": "stream",
     "text": [
      "['prajwal', 'sana', 'ritu', 'aniket', 'varun']\n"
     ]
    }
   ],
   "source": [
    "name = ['prajwal', 'ritu', 'aniket', 'varun']\n",
    "name.insert(1, 'sana')\n",
    "print(name)"
   ]
  },
  {
   "cell_type": "code",
   "execution_count": 31,
   "metadata": {},
   "outputs": [
    {
     "name": "stdout",
     "output_type": "stream",
     "text": [
      "['prajwal', 'mohit', 'sana', 'ritu', 'aniket', 'varun']\n"
     ]
    }
   ],
   "source": [
    "name.insert(1, 'mohit')\n",
    "print(name)"
   ]
  },
  {
   "cell_type": "code",
   "execution_count": 33,
   "metadata": {},
   "outputs": [
    {
     "name": "stdout",
     "output_type": "stream",
     "text": [
      "['prajwal', 'sam', 'mohit', 'sana', 'ritu', 'aniket', 'varun', 'king']\n"
     ]
    }
   ],
   "source": [
    "name_1 = ['prajwal', 'mohit', 'sana', 'ritu', 'aniket', 'varun']\n",
    "name_1.append('king')\n",
    "name_1.insert(1, 'sam')\n",
    "print(name_1)"
   ]
  },
  {
   "cell_type": "code",
   "execution_count": 34,
   "metadata": {},
   "outputs": [
    {
     "name": "stdout",
     "output_type": "stream",
     "text": [
      "['prajwal', 'mohit', 'sana', 'ritu', 'aniket', 'varun']\n",
      "['prajwal', 'mohit', 'sana', 'ritu', 'aniket', 'varun', 'king']\n",
      "['prajwal', 'sam', 'mohit', 'sana', 'ritu', 'aniket', 'varun', 'king']\n"
     ]
    }
   ],
   "source": [
    "name_1 = ['prajwal', 'mohit', 'sana', 'ritu', 'aniket', 'varun']\n",
    "print(name_1)\n",
    "\n",
    "name_1.append('king')\n",
    "print(name_1)\n",
    "\n",
    "name_1.insert(1, 'sam')\n",
    "print(name_1)"
   ]
  },
  {
   "cell_type": "code",
   "execution_count": null,
   "metadata": {},
   "outputs": [],
   "source": [
    "\n",
    "# ====> .append() ===> used to add element. \n",
    "# ====> .insert() ===> used to add a element to the posistion of our choice\n"
   ]
  },
  {
   "cell_type": "code",
   "execution_count": null,
   "metadata": {},
   "outputs": [],
   "source": []
  },
  {
   "cell_type": "code",
   "execution_count": null,
   "metadata": {},
   "outputs": [],
   "source": [
    "# Req : Now i want to delete an element"
   ]
  },
  {
   "cell_type": "code",
   "execution_count": 35,
   "metadata": {},
   "outputs": [],
   "source": [
    "name02 = ['prajwal', 'mohit', 'sana', 'ritu', 'aniket', 'varun']\n",
    "del name02[0]"
   ]
  },
  {
   "cell_type": "code",
   "execution_count": 36,
   "metadata": {},
   "outputs": [
    {
     "name": "stdout",
     "output_type": "stream",
     "text": [
      "['mohit', 'sana', 'ritu', 'aniket', 'varun']\n"
     ]
    }
   ],
   "source": [
    "print(name02)"
   ]
  },
  {
   "cell_type": "code",
   "execution_count": 39,
   "metadata": {},
   "outputs": [
    {
     "ename": "SyntaxError",
     "evalue": "cannot delete function call (<ipython-input-39-13b4e4cbcefd>, line 4)",
     "output_type": "error",
     "traceback": [
      "\u001b[1;36m  File \u001b[1;32m\"<ipython-input-39-13b4e4cbcefd>\"\u001b[1;36m, line \u001b[1;32m4\u001b[0m\n\u001b[1;33m    del name03(4)\u001b[0m\n\u001b[1;37m        ^\u001b[0m\n\u001b[1;31mSyntaxError\u001b[0m\u001b[1;31m:\u001b[0m cannot delete function call\n"
     ]
    }
   ],
   "source": [
    "name03 = ['prajwal', 'mohit', 'sana', 'ritu', 'aniket', 'varun']\n",
    "name03.append('raj')\n",
    "name03.insert(3, 'nikhil')\n",
    "del name03(4)"
   ]
  },
  {
   "cell_type": "code",
   "execution_count": 40,
   "metadata": {},
   "outputs": [
    {
     "name": "stdout",
     "output_type": "stream",
     "text": [
      "['prajwal', 'mohit', 'sana', 'nikhil', 'aniket', 'varun', 'raj']\n"
     ]
    }
   ],
   "source": [
    "name03 = ['prajwal', 'mohit', 'sana', 'ritu', 'aniket', 'varun']\n",
    "name03.append('raj')\n",
    "name03.insert(3, 'nikhil')\n",
    "del name03[4]\n",
    "print(name03)"
   ]
  },
  {
   "cell_type": "code",
   "execution_count": 42,
   "metadata": {},
   "outputs": [
    {
     "name": "stdout",
     "output_type": "stream",
     "text": [
      "['prajwal', 'mohit', 'sana', 'ritu', 'aniket', 'varun']\n",
      "['prajwal', 'mohit', 'sana', 'ritu', 'aniket', 'varun', 'raj']\n",
      "['prajwal', 'mohit', 'sana', 'nikhil', 'ritu', 'aniket', 'varun', 'raj']\n",
      "['prajwal', 'mohit', 'sana', 'nikhil', 'aniket', 'varun', 'raj']\n"
     ]
    }
   ],
   "source": [
    "name03 = ['prajwal', 'mohit', 'sana', 'ritu', 'aniket', 'varun']\n",
    "print(name03)\n",
    "\n",
    "name03.append('raj')\n",
    "print(name03)\n",
    "\n",
    "name03.insert(3, 'nikhil')\n",
    "print(name03)\n",
    "\n",
    "del name03[4]\n",
    "print(name03)"
   ]
  },
  {
   "cell_type": "code",
   "execution_count": null,
   "metadata": {},
   "outputs": [],
   "source": [
    "# you can use multiple print command in a single cell "
   ]
  },
  {
   "cell_type": "code",
   "execution_count": null,
   "metadata": {},
   "outputs": [],
   "source": [
    "\n",
    "\n",
    "\n",
    "            # Extra Questions\n",
    "\n",
    "\n"
   ]
  },
  {
   "cell_type": "code",
   "execution_count": 6,
   "metadata": {},
   "outputs": [
    {
     "data": {
      "text/plain": [
       "builtin_function_or_method"
      ]
     },
     "execution_count": 6,
     "metadata": {},
     "output_type": "execute_result"
    }
   ],
   "source": [
    "type(print)"
   ]
  },
  {
   "cell_type": "code",
   "execution_count": null,
   "metadata": {},
   "outputs": [],
   "source": [
    "# ====> builtin_function _or_method is one of the type of datatype."
   ]
  },
  {
   "cell_type": "code",
   "execution_count": 7,
   "metadata": {},
   "outputs": [
    {
     "ename": "NameError",
     "evalue": "name 'Print' is not defined",
     "output_type": "error",
     "traceback": [
      "\u001b[1;31m---------------------------------------------------------------------------\u001b[0m",
      "\u001b[1;31mNameError\u001b[0m                                 Traceback (most recent call last)",
      "\u001b[1;32m<ipython-input-7-b33d3f360c16>\u001b[0m in \u001b[0;36m<module>\u001b[1;34m\u001b[0m\n\u001b[1;32m----> 1\u001b[1;33m \u001b[0mPrint\u001b[0m\u001b[1;33m(\u001b[0m\u001b[1;34m\"a\"\u001b[0m\u001b[1;33m)\u001b[0m\u001b[1;33m\u001b[0m\u001b[1;33m\u001b[0m\u001b[0m\n\u001b[0m",
      "\u001b[1;31mNameError\u001b[0m: name 'Print' is not defined"
     ]
    }
   ],
   "source": [
    "Print(\"a\")"
   ]
  },
  {
   "cell_type": "code",
   "execution_count": 8,
   "metadata": {},
   "outputs": [
    {
     "data": {
      "text/plain": [
       "builtin_function_or_method"
      ]
     },
     "execution_count": 8,
     "metadata": {},
     "output_type": "execute_result"
    }
   ],
   "source": [
    "type(print)"
   ]
  },
  {
   "cell_type": "code",
   "execution_count": 9,
   "metadata": {},
   "outputs": [
    {
     "name": "stdout",
     "output_type": "stream",
     "text": [
      "a\n"
     ]
    }
   ],
   "source": [
    "name = \"a\"\n",
    "print(name)"
   ]
  },
  {
   "cell_type": "code",
   "execution_count": 10,
   "metadata": {},
   "outputs": [
    {
     "data": {
      "text/plain": [
       "str"
      ]
     },
     "execution_count": 10,
     "metadata": {},
     "output_type": "execute_result"
    }
   ],
   "source": [
    "type(name)"
   ]
  },
  {
   "cell_type": "code",
   "execution_count": 46,
   "metadata": {},
   "outputs": [
    {
     "name": "stdout",
     "output_type": "stream",
     "text": [
      "a\n"
     ]
    }
   ],
   "source": [
    "Print = \"a\"\n",
    "\n",
    "print(Print)"
   ]
  },
  {
   "cell_type": "code",
   "execution_count": 47,
   "metadata": {},
   "outputs": [
    {
     "data": {
      "text/plain": [
       "str"
      ]
     },
     "execution_count": 47,
     "metadata": {},
     "output_type": "execute_result"
    }
   ],
   "source": [
    "type(Print)"
   ]
  },
  {
   "cell_type": "code",
   "execution_count": null,
   "metadata": {},
   "outputs": [],
   "source": []
  }
 ],
 "metadata": {
  "kernelspec": {
   "display_name": "Python 3",
   "language": "python",
   "name": "python3"
  },
  "language_info": {
   "codemirror_mode": {
    "name": "ipython",
    "version": 3
   },
   "file_extension": ".py",
   "mimetype": "text/x-python",
   "name": "python",
   "nbconvert_exporter": "python",
   "pygments_lexer": "ipython3",
   "version": "3.8.5"
  }
 },
 "nbformat": 4,
 "nbformat_minor": 4
}
