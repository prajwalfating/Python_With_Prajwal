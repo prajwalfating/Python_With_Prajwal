{
 "cells": [
  {
   "cell_type": "code",
   "execution_count": null,
   "metadata": {},
   "outputs": [],
   "source": [
    "# Introduction to data type\n",
    "\n",
    "#--- String\n",
    "#--- Numbers\n",
    "#--- List\n",
    "#--- Tuple\n",
    "#--- Dictionary\n",
    "\n",
    "# Now we would be getting into each type of data type and will be discussing"
   ]
  },
  {
   "cell_type": "code",
   "execution_count": null,
   "metadata": {},
   "outputs": [],
   "source": [
    "# Data Type can be written as :-\n",
    "\n",
    "# String     :- str\n",
    "# Numbers    :- 2 Types-\n",
    "#                1)Integers :- int\n",
    "#                2) Float   :- float\n",
    "# List       :- list\n",
    "# Tuple      :- tuple\n",
    "# Dictionary :- dict\n",
    "\n",
    "\n",
    "# Classification of Data Types\n",
    "\n",
    "# data type can be classification input 2 types\n",
    "\n",
    "# 1. Mutable Data type (flixible) --- immutable data type is that which we can edit or alter once it has been declared.\n",
    "# 2. Immutable Data type (fixed) --- immutable data type is that which cannot be edited or we cannot aleart once it has been declared. "
   ]
  },
  {
   "cell_type": "code",
   "execution_count": null,
   "metadata": {},
   "outputs": [],
   "source": [
    "# Introduction to String Data Type\n",
    "\n",
    "# Overview or defn: a string is nothing but a series of characters enclosed in quotes.\n",
    "\n",
    "# Classification : string data type is classified as immutable datatype\n",
    "\n",
    "# How to Define a String?\n",
    "\n",
    "# To define a string we have 3 possible Ways\n",
    "\n",
    "# 1) Single Quote\n",
    "# 2) Double Quote\n",
    "# 3) Triple Quote"
   ]
  },
  {
   "cell_type": "code",
   "execution_count": 1,
   "metadata": {},
   "outputs": [
    {
     "name": "stdout",
     "output_type": "stream",
     "text": [
      "Prajwal\n"
     ]
    }
   ],
   "source": [
    "# 1) Single Quote\n",
    "\n",
    "name = 'Prajwal'\n",
    "print(name)"
   ]
  },
  {
   "cell_type": "code",
   "execution_count": 2,
   "metadata": {},
   "outputs": [
    {
     "name": "stdout",
     "output_type": "stream",
     "text": [
      "Prajwal\n"
     ]
    }
   ],
   "source": [
    "# 2) Double Quote\n",
    "\n",
    "name1 = \"Prajwal\"\n",
    "print(name1)"
   ]
  },
  {
   "cell_type": "code",
   "execution_count": 3,
   "metadata": {},
   "outputs": [
    {
     "ename": "SyntaxError",
     "evalue": "invalid syntax (<ipython-input-3-0d591b362554>, line 1)",
     "output_type": "error",
     "traceback": [
      "\u001b[1;36m  File \u001b[1;32m\"<ipython-input-3-0d591b362554>\"\u001b[1;36m, line \u001b[1;32m1\u001b[0m\n\u001b[1;33m    name2 = ''king''\u001b[0m\n\u001b[1;37m              ^\u001b[0m\n\u001b[1;31mSyntaxError\u001b[0m\u001b[1;31m:\u001b[0m invalid syntax\n"
     ]
    }
   ],
   "source": [
    "name2 = ''king''\n",
    "print(name2)"
   ]
  },
  {
   "cell_type": "code",
   "execution_count": 4,
   "metadata": {},
   "outputs": [
    {
     "name": "stdout",
     "output_type": "stream",
     "text": [
      "Prajwal\n"
     ]
    }
   ],
   "source": [
    "# 3) Triple Quote \n",
    "\n",
    "name3 = '''Prajwal'''\n",
    "print(name3)"
   ]
  },
  {
   "cell_type": "code",
   "execution_count": 5,
   "metadata": {},
   "outputs": [
    {
     "name": "stdout",
     "output_type": "stream",
     "text": [
      "\"king\"\n"
     ]
    }
   ],
   "source": [
    "name4 = '\"king\"'\n",
    "print(name4)"
   ]
  },
  {
   "cell_type": "code",
   "execution_count": 6,
   "metadata": {},
   "outputs": [
    {
     "name": "stdout",
     "output_type": "stream",
     "text": [
      "'Aniket'\n"
     ]
    }
   ],
   "source": [
    "name5 = \"'Aniket'\"\n",
    "print(name5)"
   ]
  },
  {
   "cell_type": "code",
   "execution_count": 7,
   "metadata": {},
   "outputs": [
    {
     "name": "stdout",
     "output_type": "stream",
     "text": [
      "Rohit\n"
     ]
    }
   ],
   "source": [
    "name6 = \"\"\"Rohit\"\"\"\n",
    "print(name6)"
   ]
  },
  {
   "cell_type": "code",
   "execution_count": 8,
   "metadata": {},
   "outputs": [
    {
     "ename": "SyntaxError",
     "evalue": "invalid syntax (<ipython-input-8-f236d0e1e182>, line 1)",
     "output_type": "error",
     "traceback": [
      "\u001b[1;36m  File \u001b[1;32m\"<ipython-input-8-f236d0e1e182>\"\u001b[1;36m, line \u001b[1;32m1\u001b[0m\n\u001b[1;33m    name7 = \"\"Prajwal\"\"\u001b[0m\n\u001b[1;37m              ^\u001b[0m\n\u001b[1;31mSyntaxError\u001b[0m\u001b[1;31m:\u001b[0m invalid syntax\n"
     ]
    }
   ],
   "source": [
    "name7 = \"\"Prajwal\"\"\n",
    "print(name7)"
   ]
  },
  {
   "cell_type": "code",
   "execution_count": null,
   "metadata": {},
   "outputs": [],
   "source": [
    "# NOTE :- 1) Single Quate --{' '}\n",
    "#         2) Double Quote -- {\" \"}\n",
    "#         3) Triple Quote --{''' '''} & {\"\"\" \"\"\"}\n",
    "\n",
    "# {'\" \"'} & {\"' '\"} Its is a single Quate, its shows in the output in a one Quate.---{Example shows in--- In[5] & In[6]}"
   ]
  },
  {
   "cell_type": "code",
   "execution_count": 9,
   "metadata": {},
   "outputs": [
    {
     "ename": "SyntaxError",
     "evalue": "EOL while scanning string literal (<ipython-input-9-13725d85e91a>, line 4)",
     "output_type": "error",
     "traceback": [
      "\u001b[1;36m  File \u001b[1;32m\"<ipython-input-9-13725d85e91a>\"\u001b[1;36m, line \u001b[1;32m4\u001b[0m\n\u001b[1;33m    poem = 'Twinkle, twinkle, little star\u001b[0m\n\u001b[1;37m                                         ^\u001b[0m\n\u001b[1;31mSyntaxError\u001b[0m\u001b[1;31m:\u001b[0m EOL while scanning string literal\n"
     ]
    }
   ],
   "source": [
    "# Used of Single, Double & Triple Quotetion with other Example :- \n",
    "\n",
    "\n",
    "poem = 'Twinkle, twinkle, little star\n",
    "How I wonder what you are\n",
    "Up above the world so high\n",
    "Like a diamond in the sky\n",
    "Twinkle, twinkle little star\n",
    "How I wonder what you are\n",
    "When the blazing sun is gone\n",
    "When he nothing shines upon\n",
    "Then you show your little light\n",
    "Twinkle, twinkle, all the night\n",
    "Twinkle, twinkle, little star\n",
    "How I wonder what you are'\n",
    "print(poem)"
   ]
  },
  {
   "cell_type": "code",
   "execution_count": 10,
   "metadata": {},
   "outputs": [
    {
     "ename": "SyntaxError",
     "evalue": "EOL while scanning string literal (<ipython-input-10-df02ccf70ee4>, line 1)",
     "output_type": "error",
     "traceback": [
      "\u001b[1;36m  File \u001b[1;32m\"<ipython-input-10-df02ccf70ee4>\"\u001b[1;36m, line \u001b[1;32m1\u001b[0m\n\u001b[1;33m    poem2 = \"Twinkle, twinkle, little star\u001b[0m\n\u001b[1;37m                                          ^\u001b[0m\n\u001b[1;31mSyntaxError\u001b[0m\u001b[1;31m:\u001b[0m EOL while scanning string literal\n"
     ]
    }
   ],
   "source": [
    "poem2 = \"Twinkle, twinkle, little star\n",
    "How I wonder what you are\n",
    "Up above the world so high\n",
    "Like a diamond in the sky\n",
    "Twinkle, twinkle little star\n",
    "How I wonder what you are\n",
    "When the blazing sun is gone\n",
    "When he nothing shines upon\n",
    "Then you show your little light\n",
    "Twinkle, twinkle, all the night\n",
    "Twinkle, twinkle, little star\n",
    "How I wonder what you are\"\n",
    "print(poem2)"
   ]
  },
  {
   "cell_type": "code",
   "execution_count": 11,
   "metadata": {},
   "outputs": [
    {
     "name": "stdout",
     "output_type": "stream",
     "text": [
      "Twinkle, twinkle, little star\n",
      "How I wonder what you are\n",
      "Up above the world so high\n",
      "Like a diamond in the sky\n",
      "Twinkle, twinkle little star\n",
      "How I wonder what you are\n",
      "When the blazing sun is gone\n",
      "When he nothing shines upon\n",
      "Then you show your little light\n",
      "Twinkle, twinkle, all the night\n",
      "Twinkle, twinkle, little star\n",
      "How I wonder what you are\n"
     ]
    }
   ],
   "source": [
    "poem3 = ('''Twinkle, twinkle, little star\n",
    "How I wonder what you are\n",
    "Up above the world so high\n",
    "Like a diamond in the sky\n",
    "Twinkle, twinkle little star\n",
    "How I wonder what you are\n",
    "When the blazing sun is gone\n",
    "When he nothing shines upon\n",
    "Then you show your little light\n",
    "Twinkle, twinkle, all the night\n",
    "Twinkle, twinkle, little star\n",
    "How I wonder what you are''')\n",
    "print(poem3)"
   ]
  },
  {
   "cell_type": "code",
   "execution_count": 12,
   "metadata": {},
   "outputs": [
    {
     "name": "stdout",
     "output_type": "stream",
     "text": [
      "Twinkle, twinkle, little star\n",
      "How I wonder what you are\n",
      "Up above the world so high\n",
      "Like a diamond in the sky\n",
      "Twinkle, twinkle little star\n",
      "How I wonder what you are\n",
      "When the blazing sun is gone\n",
      "When he nothing shines upon\n",
      "Then you show your little light\n",
      "Twinkle, twinkle, all the night\n",
      "Twinkle, twinkle, little star\n",
      "How I wonder what you are\n"
     ]
    }
   ],
   "source": [
    "poem4 = (\"\"\"Twinkle, twinkle, little star\n",
    "How I wonder what you are\n",
    "Up above the world so high\n",
    "Like a diamond in the sky\n",
    "Twinkle, twinkle little star\n",
    "How I wonder what you are\n",
    "When the blazing sun is gone\n",
    "When he nothing shines upon\n",
    "Then you show your little light\n",
    "Twinkle, twinkle, all the night\n",
    "Twinkle, twinkle, little star\n",
    "How I wonder what you are\"\"\")\n",
    "print(poem4)"
   ]
  },
  {
   "cell_type": "code",
   "execution_count": 13,
   "metadata": {},
   "outputs": [
    {
     "ename": "SyntaxError",
     "evalue": "EOL while scanning string literal (<ipython-input-13-dd4fd028f225>, line 1)",
     "output_type": "error",
     "traceback": [
      "\u001b[1;36m  File \u001b[1;32m\"<ipython-input-13-dd4fd028f225>\"\u001b[1;36m, line \u001b[1;32m1\u001b[0m\n\u001b[1;33m    poem5 = ('\"Twinkle, twinkle, little star\u001b[0m\n\u001b[1;37m                                            ^\u001b[0m\n\u001b[1;31mSyntaxError\u001b[0m\u001b[1;31m:\u001b[0m EOL while scanning string literal\n"
     ]
    }
   ],
   "source": [
    "poem5 = ('\"Twinkle, twinkle, little star\n",
    "How I wonder what you are\n",
    "Up above the world so high\n",
    "Like a diamond in the sky\n",
    "Twinkle, twinkle little star\n",
    "How I wonder what you are\n",
    "When the blazing sun is gone\n",
    "When he nothing shines upon\n",
    "Then you show your little light\n",
    "Twinkle, twinkle, all the night\n",
    "Twinkle, twinkle, little star\n",
    "How I wonder what you are\"')\n",
    "print(poem5)"
   ]
  },
  {
   "cell_type": "code",
   "execution_count": 14,
   "metadata": {},
   "outputs": [
    {
     "name": "stdout",
     "output_type": "stream",
     "text": [
      "Twinkle, twinkle, little star How I wonder what you are Up above the world so high Like a diamond in the sky Twinkle, twinkle little star How I wonder what you areWhen the blazing sun is goneWhen he nothing shines uponThen you show your little lightTwinkle, twinkle, all the nightTwinkle, twinkle, little starHow I wonder what you are \n"
     ]
    }
   ],
   "source": [
    "poem6 = (\"Twinkle, twinkle, little star How I wonder what you are Up above the world so high Like a diamond in the sky Twinkle, twinkle little star How I wonder what you areWhen the blazing sun is goneWhen he nothing shines uponThen you show your little lightTwinkle, twinkle, all the nightTwinkle, twinkle, little starHow I wonder what you are \") \n",
    "print(poem6)"
   ]
  },
  {
   "cell_type": "code",
   "execution_count": 15,
   "metadata": {},
   "outputs": [
    {
     "name": "stdout",
     "output_type": "stream",
     "text": [
      "Twinkle, twinkle, little starHow I wonder what you areUp above the world so highLike a diamond in the skyTwinkle, twinkle little starHow I wonder what you areWhen the blazing sun is goneWhen he nothing shines uponThen you show your little lightTwinkle, twinkle, all the nightTwinkle, twinkle, little starHow I wonder what you are\n"
     ]
    }
   ],
   "source": [
    "poem7 = ('Twinkle, twinkle, little starHow I wonder what you areUp above the world so highLike a diamond in the skyTwinkle, twinkle little starHow I wonder what you areWhen the blazing sun is goneWhen he nothing shines uponThen you show your little lightTwinkle, twinkle, all the nightTwinkle, twinkle, little starHow I wonder what you are')\n",
    "print(poem7)"
   ]
  },
  {
   "cell_type": "code",
   "execution_count": 17,
   "metadata": {},
   "outputs": [
    {
     "name": "stdout",
     "output_type": "stream",
     "text": [
      "Don’t make friends who are comfortable to be with. Make friends who will force you to lever yourself up.\n"
     ]
    }
   ],
   "source": [
    "Friends1 = ('Don’t make friends who are comfortable to be with. Make friends who will force you to lever yourself up.')\n",
    "print(Friends1)"
   ]
  },
  {
   "cell_type": "code",
   "execution_count": 18,
   "metadata": {},
   "outputs": [
    {
     "ename": "SyntaxError",
     "evalue": "EOL while scanning string literal (<ipython-input-18-b2a5521c8721>, line 1)",
     "output_type": "error",
     "traceback": [
      "\u001b[1;36m  File \u001b[1;32m\"<ipython-input-18-b2a5521c8721>\"\u001b[1;36m, line \u001b[1;32m1\u001b[0m\n\u001b[1;33m    friends2 = ('Don’t make friends who are comfortable to be with.\u001b[0m\n\u001b[1;37m                                                                    ^\u001b[0m\n\u001b[1;31mSyntaxError\u001b[0m\u001b[1;31m:\u001b[0m EOL while scanning string literal\n"
     ]
    }
   ],
   "source": [
    "friends2 = ('Don’t make friends who are comfortable to be with. \n",
    "            Make friends who will force you to lever yourself up.')\n",
    "print(friends2)"
   ]
  },
  {
   "cell_type": "code",
   "execution_count": 19,
   "metadata": {},
   "outputs": [
    {
     "name": "stdout",
     "output_type": "stream",
     "text": [
      "Don’t make friends who are comfortable to be with. Make friends who will force you to lever yourself up.\n"
     ]
    }
   ],
   "source": [
    "friends3 = (\"Don’t make friends who are comfortable to be with. Make friends who will force you to lever yourself up.\")\n",
    "print(friends3)"
   ]
  },
  {
   "cell_type": "code",
   "execution_count": 20,
   "metadata": {},
   "outputs": [
    {
     "ename": "SyntaxError",
     "evalue": "EOL while scanning string literal (<ipython-input-20-7e92d5b53b53>, line 1)",
     "output_type": "error",
     "traceback": [
      "\u001b[1;36m  File \u001b[1;32m\"<ipython-input-20-7e92d5b53b53>\"\u001b[1;36m, line \u001b[1;32m1\u001b[0m\n\u001b[1;33m    friends4 = (\"Don’t make friends who are comfortable to be with.\u001b[0m\n\u001b[1;37m                                                                    ^\u001b[0m\n\u001b[1;31mSyntaxError\u001b[0m\u001b[1;31m:\u001b[0m EOL while scanning string literal\n"
     ]
    }
   ],
   "source": [
    "friends4 = (\"Don’t make friends who are comfortable to be with. \n",
    "            Make friends who will force you to lever yourself up.\")\n",
    "print(friends4)"
   ]
  },
  {
   "cell_type": "code",
   "execution_count": 21,
   "metadata": {},
   "outputs": [
    {
     "name": "stdout",
     "output_type": "stream",
     "text": [
      "Don’t make friends who are comfortable to be with.\n",
      "Make friends who will force you to lever yourself up.\n"
     ]
    }
   ],
   "source": [
    "friends5 =('''Don’t make friends who are comfortable to be with.\n",
    "Make friends who will force you to lever yourself up.''')\n",
    "print(friends5)"
   ]
  },
  {
   "cell_type": "code",
   "execution_count": 22,
   "metadata": {},
   "outputs": [
    {
     "name": "stdout",
     "output_type": "stream",
     "text": [
      "Don’t make friends who are comfortable to be with.\n",
      "Make friends who will force you to lever yourself up.\n"
     ]
    }
   ],
   "source": [
    "friends6 = \"\"\"Don’t make friends who are comfortable to be with.\n",
    "Make friends who will force you to lever yourself up.\"\"\"\n",
    "print(friends6)"
   ]
  },
  {
   "cell_type": "code",
   "execution_count": 23,
   "metadata": {},
   "outputs": [
    {
     "name": "stdout",
     "output_type": "stream",
     "text": [
      "Aniket, Rohit, Mohit, Varun\n",
      "Aniket Rohit Mohit Varun\n",
      "Aniket, Rohit, Mohit, Varun\n",
      "Aniket, Rohit, Mohit, Varun\n",
      "Aniket, Rohit, Mohit, Varun\n",
      "\"Aniket, Rohit, Mohit, Varun\"\n",
      "'Aniket, Rohit, Mohit, Varun'\n"
     ]
    }
   ],
   "source": [
    "friends7 = ('Aniket, Rohit, Mohit, Varun')\n",
    "\n",
    "friends8 = ('Aniket Rohit Mohit Varun')\n",
    "\n",
    "friends9 = (\"Aniket, Rohit, Mohit, Varun\")\n",
    "\n",
    "friends10 = ('''Aniket, Rohit, Mohit, Varun''')\n",
    "\n",
    "friends11 = (\"\"\"Aniket, Rohit, Mohit, Varun\"\"\")\n",
    "\n",
    "friends12 = ('\"Aniket, Rohit, Mohit, Varun\"')\n",
    "\n",
    "friends13 = (\"'Aniket, Rohit, Mohit, Varun'\")\n",
    "\n",
    "print(friends7)\n",
    "\n",
    "print(friends8)\n",
    "\n",
    "print(friends9)\n",
    "\n",
    "print(friends10)\n",
    "\n",
    "print(friends11)\n",
    "\n",
    "print(friends12)\n",
    "\n",
    "print(friends13)"
   ]
  },
  {
   "cell_type": "code",
   "execution_count": 25,
   "metadata": {},
   "outputs": [
    {
     "ename": "SyntaxError",
     "evalue": "EOL while scanning string literal (<ipython-input-25-40d14ff3a87c>, line 1)",
     "output_type": "error",
     "traceback": [
      "\u001b[1;36m  File \u001b[1;32m\"<ipython-input-25-40d14ff3a87c>\"\u001b[1;36m, line \u001b[1;32m1\u001b[0m\n\u001b[1;33m    friends14 = ('Aniket, Rohit,\u001b[0m\n\u001b[1;37m                                ^\u001b[0m\n\u001b[1;31mSyntaxError\u001b[0m\u001b[1;31m:\u001b[0m EOL while scanning string literal\n"
     ]
    }
   ],
   "source": [
    "friends14 = ('Aniket, Rohit,\n",
    "             Mohit, Varun')\n",
    "             \n",
    "friend15 = (\"Aniket, Rohit,\n",
    "            Mohit, Varun\")\n",
    "            \n",
    "friend16 = ('''Aniket, Rohit,\n",
    "            Mohit, Varun''')\n",
    "            \n",
    "friends17 = (\"\"\"Aniket, Rohit,\n",
    "Mohit, Varun\"\"\")\n",
    "            \n",
    "friends18 = ('Aniket\n",
    "             Rohit\n",
    "             Mohit\n",
    "             Varun')\n",
    "             \n",
    "friends19 =(\"Aniket\n",
    "             Rohit\n",
    "             Mohit\n",
    "             Varun\")\n",
    "            \n",
    "friends20 = ('''Aniket\n",
    "             Rohit\n",
    "             Mohit\n",
    "             Varun''')\n",
    "            \n",
    "friends21 = (\"\"\"Aniket\n",
    "             Rohit\n",
    "             Mohit\n",
    "             Varun\"\"\")\n",
    "            \n",
    "friends22 = ('''Aniket,\n",
    "             Rohit,\n",
    "             Mohit,\n",
    "             Varun''')\n",
    "            \n",
    "friends23 = (\"\"\"Aniket,\n",
    "             Rohit,\n",
    "             Mohit,\n",
    "             Varun\"\"\")\n",
    "            \n",
    "friends24 = ('\"Aniket,\n",
    "             Rohit,\n",
    "             Mohit,\n",
    "             Varun\"')\n",
    "             \n",
    "             \n",
    "print(friends14)\n",
    "             \n",
    "print(friends15)\n",
    "             \n",
    "print(friends16)\n",
    "             \n",
    "print(friends17)\n",
    "             \n",
    "print(friends18)\n",
    "             \n",
    "print(friends19)\n",
    "             \n",
    "print(friends20)\n",
    "            \n",
    "print(friends21)\n",
    "             \n",
    "print(friends22)\n",
    "             \n",
    "print(friends23)\n",
    "             \n",
    "print(friends24)\n",
    "             "
   ]
  },
  {
   "cell_type": "code",
   "execution_count": 29,
   "metadata": {},
   "outputs": [
    {
     "ename": "SyntaxError",
     "evalue": "EOL while scanning string literal (<ipython-input-29-a2eba93df7db>, line 7)",
     "output_type": "error",
     "traceback": [
      "\u001b[1;36m  File \u001b[1;32m\"<ipython-input-29-a2eba93df7db>\"\u001b[1;36m, line \u001b[1;32m7\u001b[0m\n\u001b[1;33m    friends18 = ('Aniket\u001b[0m\n\u001b[1;37m                        ^\u001b[0m\n\u001b[1;31mSyntaxError\u001b[0m\u001b[1;31m:\u001b[0m EOL while scanning string literal\n"
     ]
    }
   ],
   "source": [
    "friend16 = ('''Aniket, Rohit,\n",
    "            Mohit, Varun''')\n",
    "            \n",
    "friends17 = (\"\"\"Aniket, Rohit,\n",
    "Mohit, Varun\"\"\")\n",
    "            \n",
    "friends18 = ('Aniket\n",
    "             Rohit\n",
    "             Mohit\n",
    "             Varun')\n",
    "             \n",
    "friends19 =(\"Aniket\n",
    "             Rohit\n",
    "             Mohit\n",
    "             Varun\")\n",
    "            \n",
    "friends20 = ('''Aniket\n",
    "             Rohit\n",
    "             Mohit\n",
    "             Varun''')\n",
    "            \n",
    "friends21 = (\"\"\"Aniket\n",
    "             Rohit\n",
    "             Mohit\n",
    "             Varun\"\"\")\n",
    "            \n",
    "friends22 = ('''Aniket,\n",
    "             Rohit,\n",
    "             Mohit,\n",
    "             Varun''')\n",
    "            \n",
    "friends23 = (\"\"\"Aniket,\n",
    "             Rohit,\n",
    "             Mohit,\n",
    "             Varun\"\"\")\n",
    "            \n",
    "friends24 = ('\"Aniket,\n",
    "             Rohit,\n",
    "             Mohit,\n",
    "             Varun\"')\n",
    "             \n",
    "        \n",
    "print(friends16)\n",
    "             \n",
    "print(friends17)\n",
    "             \n",
    "print(friends18)\n",
    "             \n",
    "print(friends19)\n",
    "             \n",
    "print(friends20)\n",
    "            \n",
    "print(friends21)\n",
    "             \n",
    "print(friends22)\n",
    "             \n",
    "print(friends23)\n",
    "             \n",
    "print(friends24)\n",
    "             "
   ]
  },
  {
   "cell_type": "code",
   "execution_count": 30,
   "metadata": {},
   "outputs": [
    {
     "ename": "SyntaxError",
     "evalue": "EOL while scanning string literal (<ipython-input-30-f154ca6ffaae>, line 28)",
     "output_type": "error",
     "traceback": [
      "\u001b[1;36m  File \u001b[1;32m\"<ipython-input-30-f154ca6ffaae>\"\u001b[1;36m, line \u001b[1;32m28\u001b[0m\n\u001b[1;33m    friends24 = ('\"Aniket,\u001b[0m\n\u001b[1;37m                          ^\u001b[0m\n\u001b[1;31mSyntaxError\u001b[0m\u001b[1;31m:\u001b[0m EOL while scanning string literal\n"
     ]
    }
   ],
   "source": [
    "friend16 = ('''Aniket, Rohit,\n",
    "            Mohit, Varun''')\n",
    "            \n",
    "friends17 = (\"\"\"Aniket, Rohit,\n",
    "Mohit, Varun\"\"\")\n",
    "            \n",
    "            \n",
    "friends20 = ('''Aniket\n",
    "             Rohit\n",
    "             Mohit\n",
    "             Varun''')\n",
    "            \n",
    "friends21 = (\"\"\"Aniket\n",
    "             Rohit\n",
    "             Mohit\n",
    "             Varun\"\"\")\n",
    "            \n",
    "friends22 = ('''Aniket,\n",
    "             Rohit,\n",
    "             Mohit,\n",
    "             Varun''')\n",
    "            \n",
    "friends23 = (\"\"\"Aniket,\n",
    "             Rohit,\n",
    "             Mohit,\n",
    "             Varun\"\"\")\n",
    "            \n",
    "friends24 = ('\"Aniket,\n",
    "             Rohit,\n",
    "             Mohit,\n",
    "             Varun\"')\n",
    "             \n",
    "             \n",
    "print(friends16)\n",
    "             \n",
    "print(friends17)\n",
    "             \n",
    "print(friends20)\n",
    "            \n",
    "print(friends21)\n",
    "             \n",
    "print(friends22)\n",
    "             \n",
    "print(friends23)\n",
    "             \n",
    "print(friends24)\n",
    "             "
   ]
  },
  {
   "cell_type": "code",
   "execution_count": 31,
   "metadata": {},
   "outputs": [
    {
     "name": "stdout",
     "output_type": "stream",
     "text": [
      "Aniket, Rohit,\n",
      "            Mohit, Varun\n",
      "Aniket, Rohit,\n",
      "Mohit, Varun\n",
      "Aniket\n",
      "             Rohit\n",
      "             Mohit\n",
      "             Varun\n",
      "Aniket\n",
      "             Rohit\n",
      "             Mohit\n",
      "             Varun\n",
      "Aniket,\n",
      "             Rohit,\n",
      "             Mohit,\n",
      "             Varun\n",
      "Aniket,\n",
      "             Rohit,\n",
      "             Mohit,\n",
      "             Varun\n"
     ]
    }
   ],
   "source": [
    "friends16 = ('''Aniket, Rohit,\n",
    "            Mohit, Varun''')\n",
    "            \n",
    "friends17 = (\"\"\"Aniket, Rohit,\n",
    "Mohit, Varun\"\"\")\n",
    "            \n",
    "friends20 = ('''Aniket\n",
    "             Rohit\n",
    "             Mohit\n",
    "             Varun''')\n",
    "            \n",
    "friends21 = (\"\"\"Aniket\n",
    "             Rohit\n",
    "             Mohit\n",
    "             Varun\"\"\")\n",
    "            \n",
    "friends22 = ('''Aniket,\n",
    "             Rohit,\n",
    "             Mohit,\n",
    "             Varun''')\n",
    "            \n",
    "friends23 = (\"\"\"Aniket,\n",
    "             Rohit,\n",
    "             Mohit,\n",
    "             Varun\"\"\")\n",
    "            \n",
    "             \n",
    "             \n",
    "print(friends16)\n",
    "             \n",
    "print(friends17)\n",
    "                        \n",
    "print(friends20)\n",
    "            \n",
    "print(friends21)\n",
    "             \n",
    "print(friends22)\n",
    "             \n",
    "print(friends23)\n",
    "             "
   ]
  },
  {
   "cell_type": "code",
   "execution_count": null,
   "metadata": {},
   "outputs": [],
   "source": [
    "# Questions :-\n",
    "\n",
    "#    1) Sir,jab ham numbers of veriable ekhi cell me lete hai or wah no. of time print karte hai.\n",
    "#        Agar usme koi program me error aaye to wah jo sahi hai o bhi run nahi karta, Am I right or worng?\n",
    "#         {for Examples :- In [23, 25, 29, 30, 31]}\n",
    "\n",
    "#    2) The single{' '} & Double{\" \"} Quote is used to a single line &\n",
    "#       Triple Quote{''' '''  &  \"\"\" \"\"\"} is used to multiple line {more than one line} ---- It's shows In[12, 14, 15, 17, 18, 19, 20, 21 & 22]\n",
    "#        I am right or wrong sir?"
   ]
  }
 ],
 "metadata": {
  "kernelspec": {
   "display_name": "Python 3",
   "language": "python",
   "name": "python3"
  },
  "language_info": {
   "codemirror_mode": {
    "name": "ipython",
    "version": 3
   },
   "file_extension": ".py",
   "mimetype": "text/x-python",
   "name": "python",
   "nbconvert_exporter": "python",
   "pygments_lexer": "ipython3",
   "version": "3.8.5"
  }
 },
 "nbformat": 4,
 "nbformat_minor": 4
}
